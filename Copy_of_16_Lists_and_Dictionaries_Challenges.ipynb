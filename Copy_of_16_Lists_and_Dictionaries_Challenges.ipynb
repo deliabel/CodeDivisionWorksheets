{
  "nbformat": 4,
  "nbformat_minor": 0,
  "metadata": {
    "colab": {
      "provenance": [],
      "include_colab_link": true
    },
    "kernelspec": {
      "name": "python3",
      "display_name": "Python 3"
    },
    "language_info": {
      "name": "python"
    }
  },
  "cells": [
    {
      "cell_type": "markdown",
      "metadata": {
        "id": "view-in-github",
        "colab_type": "text"
      },
      "source": [
        "<a href=\"https://colab.research.google.com/github/deliabel/CodeDivisionWorksheets/blob/main/Copy_of_16_Lists_and_Dictionaries_Challenges.ipynb\" target=\"_parent\"><img src=\"https://colab.research.google.com/assets/colab-badge.svg\" alt=\"Open In Colab\"/></a>"
      ]
    },
    {
      "cell_type": "markdown",
      "metadata": {
        "id": "nEJLJX3J9B2k"
      },
      "source": [
        "# Some challenges to help you become more confident with using Lists, Tuples and Dictionaries\n",
        "\n",
        "---\n",
        "\n"
      ]
    },
    {
      "cell_type": "markdown",
      "metadata": {
        "id": "JvV6htgh9Nc1"
      },
      "source": [
        "### Exercise 1 - extending a list\n",
        "\n",
        "There are three ways to extend a list in Python:  \n",
        "*  use `list_name.append(item)`, `list_name.insert(item)`\n",
        "*  concatenate two lists using the + operator (e.g. new_list = list1 + list2)\n",
        "*  use `list1_name.extend(list2_name)`\n",
        "\n",
        "The last method allows us to add all the `list2` items onto `list1` and for the new, extended list to now be `list1`.  `list2` will always be added to the end of `list1`.  \n",
        "\n",
        "If the objective is to add list2 before list1 then use `list2.extend(list1)`\n",
        "\n",
        "Write a function which will:  \n",
        "*  create a list of **years** containing the years 1960, 1970, 1980, 1990, 2000  \n",
        "*  print the list of years  \n",
        "*  calculate how long ago each year was and print the year and how long ago it was (e.g. 1990 was 30 years ago)  *(Hint:  use the datetime library to get the current year)*   \n",
        "*  create a second list, **years2** containing the years 2010 and 2020, extend `years` to include these later years\n",
        "*  create a third list, **years3** containing the years 1930, 1940 and 1950 and extend the list to include all the years between 1930 and 2020\n",
        "*  print the final list\n",
        "\n",
        "Expected output:  \n",
        "[1960, 1970, 1980, 1990]  \n",
        "1960 was 61 years ago  \n",
        "1970 was 51 years ago  \n",
        "1980 was 41 years ago  \n",
        "1990 was 31 years ago  \n",
        "2000 was 21 years ago  \n",
        "[1930, 1940, 1950, 1960, 1970, 1980, 1990, 2000, 2010, 2020]"
      ]
    },
    {
      "cell_type": "code",
      "metadata": {
        "id": "QAyTVqoO8-08",
        "colab": {
          "base_uri": "https://localhost:8080/"
        },
        "outputId": "8c10a932-f24f-4ef7-9fcb-ae955fa6e11e"
      },
      "source": [
        "def join_years():\n",
        "  years = [1960, 1970, 1980, 1990, 2000]\n",
        "  print(years)\n",
        "  current_year = 2023\n",
        "  for y in years:\n",
        "    years_ago = current_year - y\n",
        "    print(y, \"was\", years_ago, \"years ago\")\n",
        "  years2 = [2010, 2020]\n",
        "  years.extend(years2)\n",
        "  print(years)\n",
        "  years3 = [1930, 1940, 1950]\n",
        "  years = years3 + years\n",
        "  #years3.extend(years)\n",
        "  print(years)\n",
        "\n",
        "join_years()"
      ],
      "execution_count": 10,
      "outputs": [
        {
          "output_type": "stream",
          "name": "stdout",
          "text": [
            "[1960, 1970, 1980, 1990, 2000]\n",
            "1960 was 63 years ago\n",
            "1970 was 53 years ago\n",
            "1980 was 43 years ago\n",
            "1990 was 33 years ago\n",
            "2000 was 23 years ago\n",
            "[1960, 1970, 1980, 1990, 2000, 2010, 2020]\n",
            "[1930, 1940, 1950, 1960, 1970, 1980, 1990, 2000, 2010, 2020]\n"
          ]
        }
      ]
    },
    {
      "cell_type": "markdown",
      "metadata": {
        "id": "S5iPicFzBzOW"
      },
      "source": [
        "---\n",
        "### Exercise 2 - creating a dictionary from a tuple and three lists\n",
        "\n",
        "Write a function which will create a list of dictionary items using the values in a tuple as the dictionary keys and the values in three corresponding lists as the dictionary values.\n",
        "\n",
        "*  loop through the status items in the tuple called task_status\n",
        "*  for each status, loop through the list with the same name (*Hint:  you can use eval(status) to access the list with the matching name  e.g. for task in eval(status)* )\n",
        "*  each time round this second loop, create a dictionary object with the  key:value pair {status : task}\n",
        "*  add each new dictionary to a list called **project_board** that was created as an empty list before the loops  \n",
        "*  print the project_board list\n",
        "\n",
        "Expected output:  \n",
        "\n",
        "[{'assigned': 'task1'}, {'assigned': 'task2'}, {'assigned': 'task3'}, {'inprogress': 'task4'}, {'inprogress': 'task5'}, {'inprogress': 'task6'}, {'completed': 'task7'}, {'completed': 'task8'}, {'completed': 'task9'}]\n",
        "\n"
      ]
    },
    {
      "cell_type": "code",
      "metadata": {
        "id": "KXYOSHY-C7m4",
        "colab": {
          "base_uri": "https://localhost:8080/"
        },
        "outputId": "a7b855f1-9879-4086-8ec5-2325875015d0"
      },
      "source": [
        "def create_project_board():\n",
        "  task_status = (\"assigned\", \"inprogress\", \"completed\")\n",
        "  assigned = ['task1','task2','task3']\n",
        "  inprogress = ['task4','task5','task6']\n",
        "  completed = ['task7','task8','task9']\n",
        "  #  add your code below here\n",
        "  project_board = []\n",
        "  for status in task_status:\n",
        "    for task in eval(status):\n",
        "      new_task = {status:task}\n",
        "      project_board = project_board + [new_task]\n",
        "\n",
        "  print(project_board)\n",
        "\n",
        "\n",
        "\n",
        "create_project_board()\n"
      ],
      "execution_count": 14,
      "outputs": [
        {
          "output_type": "stream",
          "name": "stdout",
          "text": [
            "[{'assigned': 'task1'}, {'assigned': 'task2'}, {'assigned': 'task3'}, {'inprogress': 'task4'}, {'inprogress': 'task5'}, {'inprogress': 'task6'}, {'completed': 'task7'}, {'completed': 'task8'}, {'completed': 'task9'}]\n"
          ]
        }
      ]
    },
    {
      "cell_type": "markdown",
      "metadata": {
        "id": "M1BuTu9p19Ma"
      },
      "source": [
        "---\n",
        "### Exercise 3 - names and heights\n",
        "\n",
        "Write a function which will allow a user to enter the names and heights of a set of people and add each set of information as a record (dictionary) to a list. The function will stop collecting names and heights when the user enters \"STOP\" as the name.\n",
        "\n",
        "Then, the function will:  \n",
        "\n",
        "*   produce a list of names in order of the shortest person to the tallest\n",
        "*   calculate the name of the tallest person\n",
        "*   calculate the name of the shortest person\n",
        "*   calculate the average height\n",
        "*   calculate the name of the person who is closest to the average height\n",
        "\n",
        "\n",
        "\n",
        "\n"
      ]
    },
    {
      "cell_type": "code",
      "metadata": {
        "id": "reuyww3e18uv",
        "colab": {
          "base_uri": "https://localhost:8080/"
        },
        "outputId": "30caacca-2e91-4981-b64a-51307f4ca5f4"
      },
      "source": [
        "def gets_heights():         # this does not allow two people to have the same height (also mainly uses lists not dictionaries)\n",
        "  '''\n",
        "  heights_names = {}\n",
        "  name = input(\"please enter name: \")\n",
        "  while name != \"stop\":\n",
        "    height = float(input(\"please enter height in cm: \"))\n",
        "    heights_names[height] = name\n",
        "    name = input(\"please enter name. to stop adding names, enter stop: \")\n",
        "    print(name)\n",
        "  print(heights_names)\n",
        "  '''\n",
        "  heights_names = {65.0: 'flo', 43.0: 'mo', 87.0: 'jo', 45.0: 'bo', 23.0: 'zo'}\n",
        "  print(\"skipping user input:\", heights_names, \"\\n(gnomes, of course) \\n\")\n",
        "\n",
        "  heights = list(heights_names)\n",
        "  #print(heights)\n",
        "\n",
        "  heights.sort()\n",
        "  #print(heights, \"(stand-in for names)\")\n",
        "  ordered_names = []\n",
        "  for h in heights:\n",
        "    next_name = heights_names[h]\n",
        "    ordered_names.append(next_name)\n",
        "  print(ordered_names)\n",
        "\n",
        "  tallest = heights[-1]\n",
        "  name_tallest = heights_names[tallest]\n",
        "  shortest = heights[0]\n",
        "  name_shortest = heights_names[shortest]\n",
        "  print(\"shortest:\", name_shortest + \",\", shortest, \"cm, and tallest:\", name_tallest + \",\", tallest, \"cm\")\n",
        "\n",
        "  total = sum(heights)\n",
        "  size = len(heights)\n",
        "  ave_height = round(total/size, 2)\n",
        "  print(\"average height:\", ave_height)\n",
        "\n",
        "  height_diffs = []         #still a reasonably listy method\n",
        "  for num in heights:\n",
        "    difference = round(abs(ave_height - num), 1)\n",
        "    height_diffs.append(difference)\n",
        "  #print(height_diffs)\n",
        "  smallest_diff = min(height_diffs)\n",
        "  ii = height_diffs.index(smallest_diff)\n",
        "  #print(ii)\n",
        "  closest_to = heights[ii]\n",
        "  name_closest_to = heights_names[closest_to]\n",
        "  print(\"closest to average height:\", name_closest_to + \",\", closest_to, \"cm\")\n",
        "\n",
        "  heights.append(ave_height)    #most listy method\n",
        "  heights.sort()\n",
        "  i = heights.index(ave_height)\n",
        "  #print(heights, i)\n",
        "  diff_taller = heights[i+1] - ave_height\n",
        "  diff_shorter = ave_height - heights[i-1]\n",
        "  #print(diff_shorter, diff_taller)\n",
        "  if diff_taller < diff_shorter:\n",
        "   closest = heights[i+1]\n",
        "  if diff_shorter < diff_taller:\n",
        "   closest = heights[i-1]\n",
        "  name_closest = heights_names[closest]\n",
        "  print(\"closest to average height:\", name_closest + \",\", closest, \"cm\")\n",
        "\n",
        "\n",
        "gets_heights()"
      ],
      "execution_count": 77,
      "outputs": [
        {
          "output_type": "stream",
          "name": "stdout",
          "text": [
            "skipping user input: {65.0: 'flo', 43.0: 'mo', 87.0: 'jo', 45.0: 'bo', 23.0: 'zo', 57.0: 'yo'} \n",
            "(gnomes, of course) \n",
            "\n",
            "['zo', 'mo', 'bo', 'yo', 'flo', 'jo']\n",
            "shortest: zo, 23.0 cm, and tallest: jo, 87.0 cm\n",
            "average height: 53.33\n",
            "closest to average height: yo, 57.0 cm\n",
            "closest to average height: yo, 57.0 cm\n"
          ]
        }
      ]
    },
    {
      "cell_type": "code",
      "source": [
        "def gets_heights2():         # will try to make this work the right way round\n",
        "  '''\n",
        "  names_heights = {}\n",
        "  name = input(\"please enter name: \")\n",
        "  while name != \"stop\":\n",
        "    height = float(input(\"please enter height in cm: \"))\n",
        "    names_heights[name] = height\n",
        "    name = input(\"please enter name. to stop adding names, enter stop: \")\n",
        "    print(name)\n",
        "  print(names_heights) '''\n",
        "\n",
        "  names_heights = {'flo': 65.0, 'mo': 43.0, 'jo': 87.0, 'bo': 45.0, 'zo': 23.0}\n",
        "  print(names_heights)\n",
        "\n",
        "\n",
        "  heights = list(names_heights) #it's this one I need an analog of.\n",
        "  print(heights)\n",
        "\n",
        "  #heights.sort()\n",
        "  #print(heights)\n",
        "\n",
        "  ordered_names = []\n",
        "  for h in heights:\n",
        "    next_name = names_heights[h]\n",
        "    ordered_names.append(next_name)\n",
        "  print(ordered_names)\n",
        "\n",
        "  '''\n",
        "  tallest = heights[-1]\n",
        "  name_tallest = names_heights[tallest]\n",
        "  shortest = heights[0]\n",
        "  name_shortest = names_heights[shortest]\n",
        "  print(\"tallest:\", name_tallest, tallest, \" -  shortest:\", name_shortest, shortest)\n",
        "\n",
        "  total = sum(heights)\n",
        "  size = len(heights)\n",
        "  ave_height = total/size\n",
        "  print(\"average height:\", ave_height)\n",
        "\n",
        "  heights = list(heights_names)\n",
        "  #print(heights)\n",
        "  '''\n",
        "\n",
        "gets_heights2()\n"
      ],
      "metadata": {
        "colab": {
          "base_uri": "https://localhost:8080/"
        },
        "id": "45xi_B8j14pq",
        "outputId": "f4985a6f-9142-4147-8bc8-65de7d63b0bf"
      },
      "execution_count": 82,
      "outputs": [
        {
          "output_type": "stream",
          "name": "stdout",
          "text": [
            "{'flo': 65.0, 'mo': 43.0, 'jo': 87.0, 'bo': 45.0, 'zo': 23.0}\n",
            "['flo', 'mo', 'jo', 'bo', 'zo']\n",
            "[65.0, 43.0, 87.0, 45.0, 23.0]\n"
          ]
        }
      ]
    }
  ]
}