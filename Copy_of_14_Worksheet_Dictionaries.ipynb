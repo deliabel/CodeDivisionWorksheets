{
  "nbformat": 4,
  "nbformat_minor": 0,
  "metadata": {
    "colab": {
      "provenance": [],
      "include_colab_link": true
    },
    "kernelspec": {
      "name": "python3",
      "display_name": "Python 3"
    },
    "language_info": {
      "name": "python"
    }
  },
  "cells": [
    {
      "cell_type": "markdown",
      "metadata": {
        "id": "view-in-github",
        "colab_type": "text"
      },
      "source": [
        "<a href=\"https://colab.research.google.com/github/deliabel/CodeDivisionWorksheets/blob/main/Copy_of_Worksheet_Dictionaries.ipynb\" target=\"_parent\"><img src=\"https://colab.research.google.com/assets/colab-badge.svg\" alt=\"Open In Colab\"/></a>"
      ]
    },
    {
      "cell_type": "markdown",
      "metadata": {
        "id": "AiiF1h2X4PHP"
      },
      "source": [
        "# Dictionaries\n",
        "\n",
        "---\n",
        "\n",
        "A **dictionary** is a collection of dissimilar data stored together in one *record*. Each item of data has a  (or key) that describes its paired value.  \n",
        "\n",
        "Create a dictionary object by declaring the set of keys and values, e.g.:\n",
        "\n",
        "```\n",
        "   transport = {\n",
        "       \"type\":\"bus\",\n",
        "       \"numPassengers\":72,\n",
        "       \"colour\":\"blue\",\n",
        "       \"fuel\":\"diesel\"\n",
        "   }\n",
        "```\n",
        "\n",
        "To access a value in a dictionary, use its key:  \n",
        "\n",
        "```\n",
        "transport[\"type\"] = \"coach\"\n",
        "transport_type = transport[\"type\"]\n",
        "transport_colour = transport[\"colour\"]\n",
        "transport[\"fuel\"] = petrol\n",
        "```\n",
        "\n",
        "To add a new key/value pair to a dictionary, simply assign a value to a new key:  \n",
        "```\n",
        "transport[\"seats\"] = 54\n",
        "```\n",
        "\n",
        "The transport dictionary will now look like this:  \n",
        "```\n",
        "   transport = {\n",
        "       \"type\":\"bus\",\n",
        "       \"numPassengers\":72,\n",
        "       \"colour\":\"blue\",\n",
        "       \"fuel\":\"diesel\",\n",
        "       \"seats\":54\n",
        "   }\n",
        "```\n",
        "\n"
      ]
    },
    {
      "cell_type": "markdown",
      "metadata": {
        "id": "1uZ5kNWB6CqK"
      },
      "source": [
        "---\n",
        "### Exercise 1 - print dictionary\n",
        "\n",
        "Write a function which will:  \n",
        "\n",
        "*  create an empty dictionary for a person (name, age and postcode, with values \"\", 0 and \"\")\n",
        "*  ask the user for name, age and postcode and assign the values to the correct keys in the dictionary  \n",
        "*  print the dictionary\n",
        "\n",
        "Test input:  \n",
        "Jack Jones  \n",
        "16  \n",
        "AB5 3DF  \n",
        "\n",
        "Expected output:  \n",
        "```{'name':'Jack Jones', 'age':16, 'postcode':'AB5 3DF'}```"
      ]
    },
    {
      "cell_type": "code",
      "metadata": {
        "id": "Ac7VQTj94Mrc",
        "colab": {
          "base_uri": "https://localhost:8080/"
        },
        "outputId": "8320afea-70f3-4323-c476-3187fa638784"
      },
      "source": [
        "def keep_details():\n",
        "  details = {\"name\":\"\", \"age\":0, \"postcode\":\"\"}\n",
        "  details[\"name\"] = input(\"please enter a name: \")\n",
        "  details[\"age\"] = int(input(\"please enter an age: \"))\n",
        "  details[\"postcode\"] = input(\"please enter a postcode: \")\n",
        "  print(details)\n",
        "\n",
        "keep_details()\n"
      ],
      "execution_count": null,
      "outputs": [
        {
          "output_type": "stream",
          "name": "stdout",
          "text": [
            "please enter a name: Jack Jones\n",
            "please enter an age: 16\n",
            "please enter a postcode: AB5 3DF\n",
            "{'name': 'Jack Jones', 'age': 16, 'postcode': 'AB5 3DF'}\n"
          ]
        }
      ]
    },
    {
      "cell_type": "markdown",
      "metadata": {
        "id": "0OtNqNKv7WKm"
      },
      "source": [
        "---\n",
        "### Exercise 2 - create a dictionary\n",
        "\n",
        "Write a function that will create two dictionaries,without values:  \n",
        "\n",
        "1.  person (with keys firstname, surname, birthdate, postcode)  \n",
        "2.  car (with key/value pairs as follows:  make - Vauxhall, model - Corsa, engineSize - 1199, fuelType - unleaded, num_doors - 4)  \n",
        "\n",
        "*   ask the user to enter the values for the person dictionary  \n",
        "*   print, on one line, the person's name from the person dictionary and the make of the car from the car dictionary.\n",
        "\n",
        "Test input:  \n",
        "Jack  \n",
        "Jones  \n",
        "2005/02/02    \n",
        "AB5 3DF  \n",
        "\n",
        "Expected output:  \n",
        "Jack Jones Vauxhall"
      ]
    },
    {
      "cell_type": "code",
      "metadata": {
        "id": "ZyqhaBCC-GdI",
        "colab": {
          "base_uri": "https://localhost:8080/"
        },
        "outputId": "93b85afb-34fc-4358-a53d-a6828f455cad"
      },
      "source": [
        "def keep_car_owner():\n",
        "  person = {\"firstname\":\"\", \"surname\": \"\", \"birthdate\":\"\", \"postcode\":\"\"}\n",
        "  car = {\"make\":\"Vauxhall\", \"model\":\"Corsa\", \"engineSize\":1199, \"fuelType\":\"petrol\", \"numDoors\": 4}\n",
        "\n",
        "  person[\"firstname\"] = input(\"please enter first name: \")\n",
        "  person[\"surname\"] = input(\"please enter surnname: \")\n",
        "  person[\"birthdate\"] = (input(\"please enter date of birth: \"))\n",
        "  person[\"postcode\"] = input(\"please enter postcode: \")\n",
        "  print(person[\"firstname\"], person[\"surname\"], car[\"make\"])\n",
        "\n",
        "keep_car_owner()"
      ],
      "execution_count": null,
      "outputs": [
        {
          "output_type": "stream",
          "name": "stdout",
          "text": [
            "please enter first name: Jack\n",
            "please enter surnname: Jones\n",
            "please enter date of birth: 2005/02/02\n",
            "please enter postcode: AB5 3DF\n",
            "Jack Jones Vauxhall\n"
          ]
        }
      ]
    },
    {
      "cell_type": "markdown",
      "metadata": {
        "id": "gYuuOUYw-G4I"
      },
      "source": [
        "---\n",
        "### Exercise 3 - check dictionary values\n",
        "\n",
        "Write a new function which will:\n",
        "\n",
        "*  set up the same two dictionaries as in Exercise 2  \n",
        "*  ask the user to enter the details to complete the person record  \n",
        "*  calculate the person's age  \n",
        "*  if the person is under 17 then print a message to say that they can't buy a car as they are too young to drive\n",
        "*  else if the person is under 25 then print a message to say that an engine size under 1200 is recommended  \n",
        "*  ask the user to enter the make of car that the person is looking for  \n",
        "*  if the user enters the same make as that stored in the car record, then print a message to say that you have one car of that make in stock and print all the details of the car that you have the record for\n",
        "*  else (if the user enters any other car make) then print a message to say sorry that you don't have any cars of that make in stock\n",
        "*  print a message to say that the user can get more details for stockist in the <user's postcode> area if they call 01234567890\n",
        "*  print a message to say \"Thank you <user's name> for using our site\"  \n",
        "\n",
        "Test input:  \n",
        "Jack  \n",
        "Jones  \n",
        "2005/02/02  \n",
        "AB5 3DF  \n",
        "Vauxhall  \n",
        "\n",
        "Expected output:  \n",
        "You are too young to drive\n",
        "\n",
        "Test input:  \n",
        "John  \n",
        "Jones  \n",
        "2003/02/02  \n",
        "AB5 3DF  \n",
        "Vauxhall\n",
        "\n",
        "Expected output:  \n",
        "An engine size under 1200 is recommended  \n",
        "We have one Vauxhall in stock, details:  \n",
        "Make - Vauxhall    \n",
        "Model - Corsa    \n",
        "Engine size - 1199  \n",
        "Fuel type - unleaded   \n",
        "Number of doors - 4  \n",
        "You can get more details of stockists near AB5 3DF on 01234567890  \n",
        "Thank you John Jones for using our site.     \n",
        "\n",
        "Test input:  \n",
        "John  \n",
        "Jones  \n",
        "2003/02/02  \n",
        "AB5 3DF  \n",
        "Ford  \n",
        "\n",
        "Expected output:  \n",
        "An engine size under 1200 is recommended  \n",
        "Sorry, we don't have any of that make in stock  \n"
      ]
    },
    {
      "cell_type": "code",
      "metadata": {
        "id": "Wp9Il2JG_hDh",
        "colab": {
          "base_uri": "https://localhost:8080/"
        },
        "outputId": "f57e0b6d-2c2b-482d-f3e8-53308f3ac601"
      },
      "source": [
        "def find_car():\n",
        "  person = {\"firstname\":\"\", \"surname\": \"\", \"birthdate\":\"\", \"postcode\":\"\"}\n",
        "  car = {\"make\":\"Vauxhall\", \"model\":\"Corsa\", \"engineSize\":1199, \"fuelType\":\"petrol\", \"numDoors\": 4}\n",
        "\n",
        "  person[\"firstname\"] = input(\"please enter first name: \")\n",
        "  person[\"surname\"] = input(\"please enter surnname: \")\n",
        "  person[\"birthdate\"] = int(input(\"please enter year of birth: \"))\n",
        "  person[\"postcode\"] = input(\"please enter postcode: \")\n",
        "\n",
        "  currentYear = 2021 # changed it to year, since I have not done the datetime worksheet.\n",
        "  age = currentYear - person[\"birthdate\"]\n",
        "  if age < 17:\n",
        "    return \"too young\" # why does it not give this message when I run the other tests after (all together, as below)? other ways to stop at this point?\n",
        "  elif 17 <= age <= 25:\n",
        "    print(\"\\n an engine size under 1200 is recommended for drivers under the age of 25\")\n",
        "\n",
        "  carMake = input(\"please enter the make of car you are looking for: \")\n",
        "  if carMake == car[\"make\"]:\n",
        "    print(\"there is one car of that make in stock:\")\n",
        "    print(car) # I forgot I had printed this as just the dictionary - I want to move on to data, so I'm leaving it.\n",
        "  else:\n",
        "    print(\"sorry, there are no cars of that make in stock\")\n",
        "\n",
        "  print(\"more information about stockists near\", person[\"postcode\"], \"by calling 01234 567890\")\n",
        "  print(\"Thank you,\", person[\"firstname\"] + \", for using our website\")\n",
        "\n",
        "find_car()\n",
        "\n",
        "print(\"...\")\n",
        "find_car()\n",
        "print(\"...\")\n",
        "find_car()"
      ],
      "execution_count": null,
      "outputs": [
        {
          "output_type": "stream",
          "name": "stdout",
          "text": [
            "please enter first name: Jack\n",
            "please enter surnname: Jones\n",
            "please enter year of birth: 2005\n",
            "please enter postcode: AB5 3Df\n",
            "...\n",
            "please enter first name: Jack\n",
            "please enter surnname: jones\n",
            "please enter year of birth: 2003\n",
            "please enter postcode: ab5 3df\n",
            "an engine size under 1200 is recommended for drivers under the age of 25\n",
            "please enter the make of car you are looking for: Vauxhall\n",
            "there is one car of that make in stock:\n",
            "{'make': 'Vauxhall', 'model': 'Corsa', 'engineSize': 1199, 'fuelType': 'petrol', 'numDoors': 4}\n",
            "more information about stockists near ab5 3df by calling 01234 567890\n",
            "Thank you, Jack, for using our website\n",
            "...\n",
            "please enter first name: jack\n",
            "please enter surnname: jones\n",
            "please enter year of birth: 2003\n",
            "please enter postcode: ab5 3df\n",
            "an engine size under 1200 is recommended for drivers under the age of 25\n",
            "please enter the make of car you are looking for: ford\n",
            "sorry, there are no cars of that make in stock\n",
            "more information about stockists near ab5 3df by calling 01234 567890\n",
            "Thank you, jack, for using our website\n"
          ]
        }
      ]
    },
    {
      "cell_type": "markdown",
      "metadata": {
        "id": "I6dUiRwn7Gkg"
      },
      "source": [
        "---\n",
        "### Exercise 4 - print keys and values\n",
        "\n",
        "Two dictionaries have been created below.  You can print a list of the dictionary's keys using `dictionary_name.keys()` and the values using `dictionary_name.values()`\n",
        "\n",
        "Write a function which will accept a dictionary as a parameter and will:  \n",
        "*  print the dictionary keys as a list   \n",
        "*  print the dictionary values as a list  \n",
        "\n",
        "*Hint*:  you will need to cast the keys as a list (`list(dictionary_name.keys()`)  and do the same for the values.\n",
        "\n",
        "**Expected Output**\n",
        "\n",
        "Input: English  \n",
        "Output:\n",
        "['Andy', 'Angela']  \n",
        "[95, 53]  \n",
        "\n",
        "Input: Maths  \n",
        "Output:  \n",
        "['Andy', 'Angela']  \n",
        "[58, 72]\n",
        "\n",
        "\n",
        "\n"
      ]
    },
    {
      "cell_type": "code",
      "metadata": {
        "id": "FApOckhJEsMs",
        "colab": {
          "base_uri": "https://localhost:8080/"
        },
        "outputId": "f742282e-ee12-47d4-f120-c218a30d37e7"
      },
      "source": [
        "def display_dictionary(scores):\n",
        "  #  add your code below this line\n",
        "  names = list(scores.keys())\n",
        "  numbers = list(scores.values())\n",
        "  print(names)\n",
        "  print(numbers)\n",
        "\n",
        "english_scores = {'Andy': 95, 'Angela': 53}\n",
        "maths_scores = {'Andy': 58, 'Angela': 72}\n",
        "display_dictionary(english_scores)\n",
        "display_dictionary(maths_scores)"
      ],
      "execution_count": null,
      "outputs": [
        {
          "output_type": "stream",
          "name": "stdout",
          "text": [
            "['Andy', 'Angela']\n",
            "[95, 53]\n",
            "['Andy', 'Angela']\n",
            "[58, 72]\n"
          ]
        }
      ]
    },
    {
      "cell_type": "markdown",
      "metadata": {
        "id": "segSpkmBFSJl"
      },
      "source": [
        "---\n",
        "### Exercise 5 - add field\n",
        "\n",
        "Write a function which will:\n",
        "\n",
        "*  create a new dictionary called **science_scores** with values of 0 for both Andy and Angela\n",
        "*  update Andy's score for science to 73 and Angela's score to 73   \n",
        "*  create a new key/value pair by adding another learner to the `science_scores`  dictionary (George has a score of 55)    \n",
        "*  print the `science_scores` dictionary to check results  \n",
        "\n",
        "Expected Output\n",
        "\n",
        "{'Andy': 73, 'Angela': 73, 'George': 55}"
      ]
    },
    {
      "cell_type": "code",
      "metadata": {
        "id": "BL1JM-Z7Gttf",
        "colab": {
          "base_uri": "https://localhost:8080/"
        },
        "outputId": "b0606f6e-1d6d-4928-9a17-a000269b81f1"
      },
      "source": [
        "def keep_science():\n",
        "  science_scores = {\"Andy\": 0, \"Angela\": 0}\n",
        "  science_scores[\"Andy\"] = 73\n",
        "  science_scores[\"Angela\"] = 73\n",
        "  science_scores[\"George\"] = 55\n",
        "  #print(science_scores)\n",
        "  return science_scores\n",
        "\n",
        "keep_science()"
      ],
      "execution_count": null,
      "outputs": [
        {
          "output_type": "execute_result",
          "data": {
            "text/plain": [
              "{'Andy': 73, 'Angela': 73, 'George': 55}"
            ]
          },
          "metadata": {},
          "execution_count": 1
        }
      ]
    },
    {
      "cell_type": "markdown",
      "metadata": {
        "id": "_Vzv0zlHGt-C"
      },
      "source": [
        "---\n",
        "### Exercise 6 - loop through keys/value pairs\n",
        "\n",
        "Write a function which will use a *for* loop to print the each key/value pair in the science dictionary (recreate this dictionary in this function)\n",
        "\n",
        "*(Hint: you can iterate through the key/value pairs in the dictionary in the same way as you iterate through a loop (e.g. for record in dictionary) and print the record (which is the key) and its value)*\n",
        "\n",
        "Expected output:  \n",
        "\n",
        "Angela 72  \n",
        "Andy 72  \n",
        "George 55  "
      ]
    },
    {
      "cell_type": "code",
      "metadata": {
        "id": "JL40_-W-Hxnt",
        "colab": {
          "base_uri": "https://localhost:8080/"
        },
        "outputId": "a7bf092d-14d9-4f61-943a-0fbcada1c916"
      },
      "source": [
        "science_scores = keep_science()\n",
        "#print(science_scores)\n",
        "\n",
        "def get_scores():\n",
        "  for record in science_scores:\n",
        "    print(record, science_scores[record])\n",
        "\n",
        "get_scores()\n"
      ],
      "execution_count": null,
      "outputs": [
        {
          "output_type": "stream",
          "name": "stdout",
          "text": [
            "Andy 73\n",
            "Angela 73\n",
            "George 55\n"
          ]
        }
      ]
    },
    {
      "cell_type": "markdown",
      "metadata": {
        "id": "G9wamxzRJdrE"
      },
      "source": [
        "---\n",
        "### Exercise 7 - generate new dictionary  \n",
        "\n",
        "Write a functions which will:\n",
        "*  create a new dictionary where the keys are numbers between 1 and 15 (both included) and the values are square of keys\n",
        "*  print the dictionary\n",
        "\n",
        "Expected output:  \n",
        "{1: 1, 2: 4, 3: 9, 4: 16, 5: 25, 6: 36, 7: 49, 8: 64, 9: 81, 10: 100, 11: 121, 12: 144, 13: 169, 14: 196, 15: 225}"
      ]
    },
    {
      "cell_type": "code",
      "metadata": {
        "id": "1-LI-LVrJ--N",
        "colab": {
          "base_uri": "https://localhost:8080/"
        },
        "outputId": "3a07e1a7-4f33-45b4-8057-5106486b8411"
      },
      "source": [
        "def make_squares():\n",
        "  squares = {}\n",
        "  for num in range(1,16):\n",
        "    squares[num] = num ** 2\n",
        "  print(squares)\n",
        "\n",
        "make_squares()"
      ],
      "execution_count": null,
      "outputs": [
        {
          "output_type": "stream",
          "name": "stdout",
          "text": [
            "{1: 1, 2: 4, 3: 9, 4: 16, 5: 25, 6: 36, 7: 49, 8: 64, 9: 81, 10: 100, 11: 121, 12: 144, 13: 169, 14: 196, 15: 225}\n"
          ]
        }
      ]
    },
    {
      "cell_type": "markdown",
      "metadata": {
        "id": "t0y4mefwJ_jQ"
      },
      "source": [
        "---\n",
        "### Exercise 8 - colour dictionary  \n",
        "\n",
        "Write a function which will:  \n",
        "*  create a new dictionary record called colour_codes with the values 'red' - '#FF0000', 'green' - '#008000', 'black' - '#000000', 'white' - '#FFFFFF'\n",
        "*  add a new colour code:  'blue' - '#0000FF'    \n",
        "*  remove the colours black and white from the dictionary  \n",
        "\n",
        "*Hint:  there is a list of methods [here](https://www.w3schools.com/python/python_ref_dictionary.asp)*  "
      ]
    },
    {
      "cell_type": "code",
      "metadata": {
        "id": "yod1mUNOMeWg",
        "colab": {
          "base_uri": "https://localhost:8080/"
        },
        "outputId": "45c54863-6413-491c-e7ed-b1f29744400d"
      },
      "source": [
        "def make_colours():\n",
        "  colour_codes = {'red':'#FF0000', 'green':'#008000', 'black':'#000000', 'white':'#FFFFFF'}\n",
        "  #print(colour_codes)\n",
        "  colour_codes['blue'] = '#0000FF'\n",
        "  #print(colour_codes)\n",
        "  colour_codes.pop('black')\n",
        "  colour_codes.pop('white')\n",
        "  print(colour_codes)\n",
        "\n",
        "make_colours()"
      ],
      "execution_count": null,
      "outputs": [
        {
          "output_type": "stream",
          "name": "stdout",
          "text": [
            "{'red': '#FF0000', 'green': '#008000', 'blue': '#0000FF'}\n"
          ]
        }
      ]
    },
    {
      "cell_type": "markdown",
      "metadata": {
        "id": "gjos_0vuMeyS"
      },
      "source": [
        "---\n",
        "### Exercise 9 - item tuples  \n",
        "\n",
        "Write a function which will:  \n",
        "*  create a new dictionary containing the colour codes for red, green, blue, black and white\n",
        "*  print the key/value pairs of a dictionary as a list of tuples  \n",
        "\n",
        "*Hint:  iterate through colours.items()*"
      ]
    },
    {
      "cell_type": "code",
      "metadata": {
        "id": "EzuMkUypOKTY",
        "colab": {
          "base_uri": "https://localhost:8080/"
        },
        "outputId": "fe5c2f8d-c120-4d6e-9d0b-2d9c888e2079"
      },
      "source": [
        "def get_colourCodes():\n",
        "  colour_codes = {'red': '#FF0000', 'green': '#008000', 'blue': '#0000FF', 'black': '#000000', 'white': '#FFFFFF'}\n",
        "  for colour in colour_codes.items():\n",
        "    print(colour)\n",
        "\n",
        "get_colourCodes()"
      ],
      "execution_count": null,
      "outputs": [
        {
          "output_type": "stream",
          "name": "stdout",
          "text": [
            "('red', '#FF0000')\n",
            "('green', '#008000')\n",
            "('blue', '#0000FF')\n",
            "('black', '#000000')\n",
            "('white', '#FFFFFF')\n"
          ]
        }
      ]
    },
    {
      "cell_type": "markdown",
      "metadata": {
        "id": "Jw1ot10cOc6r"
      },
      "source": [
        "---\n",
        "### Exercise 10 - check if empty\n",
        "Taken from w3resouce.com  \n",
        "\n",
        "Write a function which will check if a dictionary is empty or not\n",
        "\n",
        "*Hint:  you can use bool(dictionary_name), if the dictionary is empty then bool(dictionary_name will be false)*\n",
        "\n",
        "Test 1 sample data:\n",
        "{}\n",
        "\n",
        "Expected output:\n",
        "Dictionary is empty  \n",
        "\n",
        "Test 2 sample data:  \n",
        "{\"name\":\"Groucho\", \"occupation\":\"comedian\"}\n",
        "\n",
        "Expected output:  \n",
        "Dictionary is not empty"
      ]
    },
    {
      "cell_type": "code",
      "metadata": {
        "id": "7UdM1TfwRqnt",
        "colab": {
          "base_uri": "https://localhost:8080/"
        },
        "outputId": "d55bbdde-06cf-4ff7-c5ba-5e9a791accf9"
      },
      "source": [
        "def is_empty(sample):\n",
        "  if bool(sample) == False:\n",
        "    print(\"dictionary is empty\")\n",
        "  else:\n",
        "    print(\"dictionary is not empty\")\n",
        "\n",
        "is_empty({})\n",
        "is_empty({\"name\":\"Groucho\", \"occupation\":\"comedian\"})"
      ],
      "execution_count": null,
      "outputs": [
        {
          "output_type": "stream",
          "name": "stdout",
          "text": [
            "dictionary is empty\n",
            "dictionary is not empty\n"
          ]
        }
      ]
    }
  ]
}
