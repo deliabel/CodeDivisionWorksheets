{
  "nbformat": 4,
  "nbformat_minor": 0,
  "metadata": {
    "colab": {
      "provenance": [],
      "include_colab_link": true
    },
    "kernelspec": {
      "name": "python3",
      "display_name": "Python 3"
    }
  },
  "cells": [
    {
      "cell_type": "markdown",
      "metadata": {
        "id": "view-in-github",
        "colab_type": "text"
      },
      "source": [
        "<a href=\"https://colab.research.google.com/github/deliabel/CodeDivisionWorksheets/blob/main/Copy_of_DataTypes3.ipynb\" target=\"_parent\"><img src=\"https://colab.research.google.com/assets/colab-badge.svg\" alt=\"Open In Colab\"/></a>"
      ]
    },
    {
      "cell_type": "markdown",
      "metadata": {
        "id": "GdT0fwTCa4gI"
      },
      "source": [
        "# Working with Strings"
      ]
    },
    {
      "cell_type": "markdown",
      "metadata": {
        "id": "ozWLM6Pfa7d_"
      },
      "source": [
        "---\n",
        "### Exercise 1 input and strings\n",
        "**Recap**: to get input from the user and store it in a variable, use the instruction  \n",
        "\n",
        "*variableName = input(\"message asking user for required information\")*  \n",
        "\n",
        "*Remember: Unless you state otherwise, all input is String data*  \n",
        "\n",
        "Write a function called **print_initials()** which will:\n",
        "\n",
        "*  ask the user to input a **first_name**  \n",
        "*  ask the user to input a **middle_name**  \n",
        "*  ask the user to input a **surname**  \n",
        "*  print the name in the format: `surname`, `first_name` `middle_name`  \n",
        "\n",
        "Test Inputs:  \n",
        "Peter  \n",
        "Barry  \n",
        "Burrows  \n",
        "\n",
        "Expected output:  \n",
        "Burrows, Peter Barry\n"
      ]
    },
    {
      "cell_type": "code",
      "metadata": {
        "id": "lMJckNo-ab3z",
        "colab": {
          "base_uri": "https://localhost:8080/"
        },
        "outputId": "5e3405e4-1b39-48bf-e4a2-8d45ee5f4ae9"
      },
      "source": [
        "def print_initials():\n",
        "  first_name = input(\"please enter your first name: \")\n",
        "  middle_name = input(\"please enter your middle name: \")\n",
        "  surname = input(\"please enter your surname: \")\n",
        "  print(surname, \", \", first_name, middle_name)\n",
        "  #leaves extra spaces. do I need to add them together into one string?\n",
        "\n",
        "print_initials()"
      ],
      "execution_count": 22,
      "outputs": [
        {
          "output_type": "stream",
          "name": "stdout",
          "text": [
            "please enter your first name: Peter\n",
            "please enter your middle name: Barry\n",
            "please enter your surname: Burrows\n",
            "Burrows ,  Peter Barry\n"
          ]
        }
      ]
    },
    {
      "cell_type": "markdown",
      "metadata": {
        "id": "1Pvs8lp3bfYQ"
      },
      "source": [
        "# Substrings\n",
        "\n",
        "---\n",
        "\n",
        "A String is a set of characters. Each String has a length and each character in the string has a position or index. Indexing starts at 0 so the first character of a String is at position 0. As Strings have varying lengths, the last character of the String is at position -1. To find any character in the String, count from 0 or, if you want to count backwards from the end, count back from -1.  \n",
        "\n",
        "You can get a particular character, or a set of consecutive characters (substring) from a String using [] and the positions of the characters you want.  \n",
        "\n",
        "Example:  \n",
        "To get the first letter of a String (in this case the String is called **name**)\n",
        "**first_letter** = `name`[0]  \n",
        "**second_letter** = `name`[1]  \n",
        "**sixth_letter** = `name`[5]  \n",
        "\n",
        "To get the last letter of name:  \n",
        "**last_letter** = `name`[-1]  \n",
        "**second_last_letter** = `name`[-2]  \n",
        "**third_last_letter** = `name`[-3]  \n",
        "\n",
        "Have a go"
      ]
    },
    {
      "cell_type": "code",
      "metadata": {
        "id": "1EMg6ff7bw7o",
        "colab": {
          "base_uri": "https://localhost:8080/"
        },
        "outputId": "734fdced-7864-49ee-d107-e8ed82c94c4d"
      },
      "source": [
        "def print_letters():\n",
        "   name = \"Robert\"\n",
        "   # add your code below here to get a particular letter and print it.\n",
        "   fourth_letter = name[3]\n",
        "   third_end_letter = name[-3]\n",
        "   print(\"fourth:\", fourth_letter, \"; third-from-end:\", third_end_letter)\n",
        "\n",
        "print_letters()"
      ],
      "execution_count": null,
      "outputs": [
        {
          "output_type": "stream",
          "name": "stdout",
          "text": [
            "fourth: e ; third-from-end: e\n"
          ]
        }
      ]
    },
    {
      "cell_type": "markdown",
      "metadata": {
        "id": "FfkpprKbb0Eu"
      },
      "source": [
        "To get a set of letters from a String, use the slice operator.  \n",
        "\n",
        "*substring = stringname[ index of first letter to be included_ : index + 1 of last letter ]*\n",
        "\n",
        "Example:  \n",
        "\n",
        "**first_three_letters** = `name`[0:3]  \n",
        "**second_to_fifth_letters** = `name`[1:5]  \n",
        "**last_three_letters** = `name`[-3:]  \n",
        "\n",
        "*Note: we can't add 1 to -1 as the result would be 0 and confused with the first letter, so we omit the second number to indicate that we want all characters to the end of the string*"
      ]
    },
    {
      "cell_type": "code",
      "metadata": {
        "id": "FGQj_JCVcPGj",
        "colab": {
          "base_uri": "https://localhost:8080/"
        },
        "outputId": "8e7c09da-236f-4712-f54b-79f7768c1f2c"
      },
      "source": [
        "def print_substrings():\n",
        "   name = \"Robert\"\n",
        "   # add your code below here to get a particular letter, or set of letters and print them.\n",
        "   last_four_letters = name[2:]\n",
        "   print(\"last four: \", last_four_letters)\n",
        "   print(\"first three: \", name[0:3])\n",
        "\n",
        "print_substrings()"
      ],
      "execution_count": 1,
      "outputs": [
        {
          "output_type": "stream",
          "name": "stdout",
          "text": [
            "last four:  bert\n",
            "first three:  Rob\n"
          ]
        }
      ]
    },
    {
      "cell_type": "markdown",
      "metadata": {
        "id": "Cb2OHs_jcQFv"
      },
      "source": [
        "---\n",
        "### Exercise 2 - substrings\n",
        "\n",
        "Write a function called **print_substring()** which will:\n",
        "\n",
        "Ask the user to input a **name** of at least 5 letters  \n",
        "Print the **first** and the **fourth** letters in the `name`  \n",
        "\n",
        "Test Inputs:  \n",
        "Bartholomew  \n",
        "\n",
        "Expected output:  \n",
        "First letter is B, fourth letter is t\n"
      ]
    },
    {
      "cell_type": "code",
      "metadata": {
        "id": "IfABvmw2cgfH",
        "colab": {
          "base_uri": "https://localhost:8080/"
        },
        "outputId": "4e711245-7006-4403-8093-710cbffce259"
      },
      "source": [
        "def print_substring_one():\n",
        "  name_one = input(\"please enter a name containing at least 5 letters: \")\n",
        "  print(\"First letter is\", name_one[0], \", fourth letter is\", name_one[3])\n",
        "\n",
        "def print_substring_two():\n",
        "  name = input(\"please enter a name containing at least 5 letters: \")\n",
        "  first_letter = name[0]\n",
        "  fourth_letter = name[3]\n",
        "  print(\"First letter is\", first_letter, \", fourth letter is\", fourth_letter)\n",
        "\n",
        "print_substring_one()\n",
        "print_substring_two()"
      ],
      "execution_count": 5,
      "outputs": [
        {
          "output_type": "stream",
          "name": "stdout",
          "text": [
            "please enter a name containing at least 5 letters: bartholomew\n",
            "First letter is b , fourth letter is t\n",
            "please enter a name containing at least 5 letters: Bartholomew\n",
            "First letter is B , fourth letter is t\n"
          ]
        }
      ]
    },
    {
      "cell_type": "markdown",
      "metadata": {
        "id": "6ryO1LJMchLQ"
      },
      "source": [
        "---\n",
        "### Exercise 3  - Formatting String output  \n",
        "\n",
        "Write a function called **print_formatted()** which will:  \n",
        "\n",
        "*  ask the user to input a **house_number**\n",
        "*  ask the user to input a **road_name**, then a **town**, then a **postcode**  \n",
        "*  print the address on three lines (`house_number` with a comma and `road_name`, `town`, `postcode`)  \n",
        "\n",
        "Test Input:  \n",
        "10  \n",
        "Old Road  \n",
        "Chatham  \n",
        "ME4 1AA  \n",
        "\n",
        "Expected output:   \n",
        "10, Old Road  \n",
        "Chatham  \n",
        "ME4 1AA  "
      ]
    },
    {
      "cell_type": "code",
      "metadata": {
        "id": "qNHq7Ub4c1xP",
        "colab": {
          "base_uri": "https://localhost:8080/"
        },
        "outputId": "fa37ebfd-33ce-46a0-e9b2-ea77398f0a37"
      },
      "source": [
        "def print_formatted():\n",
        "  house_number = input(\"please enter house number: \")\n",
        "  road_name = input(\"please enter road name: \")\n",
        "  town = input(\"please enter town: \")\n",
        "  postcode = input(\"please enter postcode: \")\n",
        "  print(house_number, \",\", road_name, \"\\n\", town, \"\\n\", postcode)\n",
        "  #again, problem with spaces\n",
        "  #is this how to do new lines? seems to work\n",
        "\n",
        "print_formatted()"
      ],
      "execution_count": 41,
      "outputs": [
        {
          "output_type": "stream",
          "name": "stdout",
          "text": [
            "please enter house number: 10\n",
            "please enter road name: Old Road\n",
            "please enter town: Chatham\n",
            "please enter postcode: ME4 1AA\n",
            "10 , Old Road \n",
            " Chatham \n",
            " ME4 1AA\n"
          ]
        }
      ]
    },
    {
      "cell_type": "markdown",
      "metadata": {
        "id": "E4BkKHlyc2BA"
      },
      "source": [
        "# String functions\n",
        "\n",
        "## String length\n",
        "\n",
        "You can get the length of a String using the len() function   \n",
        "e.g. **namelength** = len(`name`)  \n"
      ]
    },
    {
      "cell_type": "markdown",
      "metadata": {
        "id": "B0-NtV3uc8UC"
      },
      "source": [
        "---\n",
        "### Exercise 4 - String length  \n",
        "\n",
        "Write a function called **print_namelength()** which will:  \n",
        "\n",
        "*  ask the user to input a **name**  \n",
        "*  assign the length of the name to a variable called **name_length**  \n",
        "*  print the `name` followed by a comma, then `name_length`, then the word “characters”.\n",
        "\n",
        "Test Input:  \n",
        "William  \n",
        "\n",
        "Expected Output:  \n",
        "William, 7 characters"
      ]
    },
    {
      "cell_type": "code",
      "metadata": {
        "id": "ldWAjdrIdOzn",
        "colab": {
          "base_uri": "https://localhost:8080/"
        },
        "outputId": "2a8734e9-9783-401e-e37b-f273995521cb"
      },
      "source": [
        "def print_namelength():\n",
        "  name = input(\"please enter name: \")\n",
        "  name_length = len(name)\n",
        "  print(name, \",\", name_length, \"characters\")\n",
        "  #convention at uni for java? FunctionName and variable_name (or other way)\n",
        "\n",
        "print_namelength()"
      ],
      "execution_count": 9,
      "outputs": [
        {
          "output_type": "stream",
          "name": "stdout",
          "text": [
            "please enter name: camassia\n",
            "camassia , 8 characters\n"
          ]
        }
      ]
    },
    {
      "cell_type": "markdown",
      "metadata": {
        "id": "2UTCEzYtdPTH"
      },
      "source": [
        "## String Case Conversion  \n",
        "\n",
        "When you start to compare and search for strings, you will need to be aware that data doesn’t always turn up in the state we would like it.  People often forget to use capital letters at the beginning of their names and will sometimes use all capitals.  It is useful, therefore, to be able to convert a String either to all capitals or all lowercase, depending on how you want to see it.  \n",
        "\n",
        "There are three functions for this, which are linked to the String (here the String variable is called **name**).  \n",
        "\n",
        "*   **upper_case_name** = `name.upper()`\n",
        "*   **lower_case_name** = `name.lower()`\n",
        "*   **capitalised_name** = `name.capitalize()`\n"
      ]
    },
    {
      "cell_type": "markdown",
      "metadata": {
        "id": "X-Fv314Hdicp"
      },
      "source": [
        "---\n",
        "### Exercise 5 - case conversion  \n",
        "\n",
        "Write a function called **convert_to_capitals()** which will:  \n",
        "\n",
        "*  ask the user to input a **name** in lowercase letters\n",
        "*  assign the capitalised String to the variable **capitalised_name**\n",
        "*  print the `name` in capitals  \n",
        "\n",
        "Test Input:  \n",
        "jaswinder  \n",
        "\n",
        "Expected output:  \n",
        "JASWINDER  \n"
      ]
    },
    {
      "cell_type": "code",
      "metadata": {
        "id": "aHDLaligd0Do",
        "colab": {
          "base_uri": "https://localhost:8080/"
        },
        "outputId": "55b78a35-5931-4ac0-a676-482a2f61451e"
      },
      "source": [
        "def convert_to_capitals():\n",
        "  name = input(\"please enter name in lowercase: \")\n",
        "  name_capitals = name.upper()\n",
        "  print(name_capitals)\n",
        "\n",
        "convert_to_capitals()"
      ],
      "execution_count": 10,
      "outputs": [
        {
          "output_type": "stream",
          "name": "stdout",
          "text": [
            "please enter name in lowercase: artemis\n",
            "ARTEMIS\n"
          ]
        }
      ]
    },
    {
      "cell_type": "markdown",
      "metadata": {
        "id": "DZeyD6p8dusQ"
      },
      "source": [
        "---\n",
        "###Exercise 6 - case conversion  \n",
        "\n",
        "Write a function called **capitalise_names()** which will:  \n",
        "\n",
        "*  ask the user to input a **name** and a **surname**  \n",
        "*  print both `name` and `surname` in lowercase with a capital letter at the start, even if they didn't have capitals when they were typed in  \n",
        "\n",
        "Test Input:  \n",
        "benJamIN  \n",
        "\n",
        "Expected output:  \n",
        "Benjamin\n"
      ]
    },
    {
      "cell_type": "code",
      "metadata": {
        "id": "bpCdYaPdap3V",
        "colab": {
          "base_uri": "https://localhost:8080/"
        },
        "outputId": "f3d47f97-8ac3-40e0-fb6a-e0c7eaf53cb7"
      },
      "source": [
        "#name = \"benJamIN\"\n",
        "#print(name.capitalize())\n",
        "\n",
        "def capitalise_names():\n",
        "  name = input(\"please enter first name: \")\n",
        "  surname = input(\"please enter surname: \")\n",
        "  print(name.capitalize(), surname.capitalize())\n",
        "\n",
        "capitalise_names()\n"
      ],
      "execution_count": 15,
      "outputs": [
        {
          "output_type": "stream",
          "name": "stdout",
          "text": [
            "please enter first name: benJamiN\n",
            "please enter surname: SmiTh\n",
            "Benjamin Smith\n"
          ]
        }
      ]
    },
    {
      "cell_type": "markdown",
      "metadata": {
        "id": "8Q9-32tFaqLN"
      },
      "source": [
        "---\n",
        "### Exercise 7 - Substrings\n",
        "\n",
        "Write a function called **print_postcode_letters()** which will:   \n",
        "\n",
        "*  ask the user to enter a **postcode**  \n",
        "*  assign the first two letters of the postcode to a variable called **postcode_area**  \n",
        "*  convert the `postcode_area` String to capital letters and assign this to a variable called **capitalised_area**  \n",
        "*  print the `capitalised_area`  \n",
        "\n",
        "Test Input:  \n",
        "Me4 6bb  \n",
        "\n",
        "Expected output:  \n",
        "ME\n"
      ]
    },
    {
      "cell_type": "code",
      "metadata": {
        "id": "dB3M2qagbUsE",
        "colab": {
          "base_uri": "https://localhost:8080/"
        },
        "outputId": "0730d4aa-0db4-4edb-8de8-cd022346fd24"
      },
      "source": [
        "def print_postcode_letters():\n",
        "  postcode = input(\"please enter postcode: \")\n",
        "  postcode_area = postcode[0:2]\n",
        "  area_capitals = postcode_area.upper()\n",
        "  print(area_capitals)\n",
        "\n",
        "print_postcode_letters()"
      ],
      "execution_count": 17,
      "outputs": [
        {
          "output_type": "stream",
          "name": "stdout",
          "text": [
            "please enter postcode: me4 6bb\n",
            "ME\n"
          ]
        }
      ]
    },
    {
      "cell_type": "markdown",
      "metadata": {
        "id": "2eezJB2UbU1M"
      },
      "source": [
        "---\n",
        "### Exercise 8 - Floor division and slicing\n",
        "\n",
        "Write a function called **print_half_word()** which will:\n",
        "\n",
        "*  ask the user to enter a **word**  \n",
        "*  assign the value of half the length of the `word` to a variable called **half_length**  \n",
        "*  assign the first half of the `word` to a new variable called **half_word**  \n",
        "*  print `half_word`  \n",
        "\n",
        "*Hint:  when dividing the length of the word by 2, use floor division (//) so that you get a whole number of letters).  To get the first half of the word, use word[0:halfLength]*  \n",
        "\n",
        "Test input:  \n",
        "Runtime  \n",
        "\n",
        "Expected output:  \n",
        "Run"
      ]
    },
    {
      "cell_type": "code",
      "metadata": {
        "id": "Xx3zHFgab2pt",
        "colab": {
          "base_uri": "https://localhost:8080/"
        },
        "outputId": "e3c0c3f1-64c9-40ce-e767-c5432c2f8c4b"
      },
      "source": [
        "#print(6//2, 5//2, 7//2)\n",
        "\n",
        "def print_half_word():\n",
        "  word = input(\"please enter a word: \")\n",
        "  half_length = len(word) // 2\n",
        "  half_word = word[0:half_length]\n",
        "  print(half_word)\n",
        "\n",
        "print_half_word()"
      ],
      "execution_count": 26,
      "outputs": [
        {
          "output_type": "stream",
          "name": "stdout",
          "text": [
            "please enter a word: carrots\n",
            "car\n"
          ]
        }
      ]
    },
    {
      "cell_type": "markdown",
      "metadata": {
        "id": "0MdQRAo4b20u"
      },
      "source": [
        "---\n",
        "### Exercise 9 - String repetition\n",
        "\n",
        "Write a function called **repeat_two_letters()** which will:\n",
        "\n",
        "*  ask the user to enter a **word**  \n",
        "*  assign the last two letters of the `word` to a variable called **last_two**  \n",
        "*  assign a string made of 5 copies of the `last_two` (*Hint: `last_two`* * 5 *will do it)* to a variable called **five_copies**  \n",
        "*  print `five_copies`\n",
        "\n",
        "Test Input:\n",
        "Data\n",
        "\n",
        "Expected output:\n",
        "tatatatata\n"
      ]
    },
    {
      "cell_type": "code",
      "metadata": {
        "id": "85-6jHD-cXRO",
        "colab": {
          "base_uri": "https://localhost:8080/"
        },
        "outputId": "c2767a30-d2da-45e1-dd3c-f6cf11c751f5"
      },
      "source": [
        "def repeat_two_letters():\n",
        "  word = input(\"please enter a word: \")\n",
        "  last_two = word[-2:]\n",
        "  five_copies = last_two * 5\n",
        "  print(five_copies)\n",
        "\n",
        "repeat_two_letters()"
      ],
      "execution_count": 29,
      "outputs": [
        {
          "output_type": "stream",
          "name": "stdout",
          "text": [
            "please enter a word: carrots\n",
            "tststststs\n"
          ]
        }
      ]
    },
    {
      "cell_type": "markdown",
      "metadata": {
        "id": "6P284VwXcXaU"
      },
      "source": [
        "---\n",
        "### Exercise 10 - converting String to lower case\n",
        "\n",
        "Write a function called **lowerCase_threeLetters()** which will:  \n",
        "\n",
        "*  assign the value “january” to a variable called **month**  \n",
        "*  assign the first three characters of `month` to a variable called **month_short**   \n",
        "*  capitalise `month_short` and store the result back in `month_short`\n",
        "*  assign the rest of the characters to a variable called **month_rest**  \n",
        "*  join `month_short` and `month_rest` together and store the result back into the variable `month`  \n",
        "*  print `month`  \n",
        "\n",
        "Expected output:  \n",
        "JANuary  "
      ]
    },
    {
      "cell_type": "code",
      "metadata": {
        "id": "GXqOeFwycuDD",
        "colab": {
          "base_uri": "https://localhost:8080/"
        },
        "outputId": "b1b24153-f9be-468a-8b8d-b0a473d114d4"
      },
      "source": [
        "def lowerCase_threeLetters_one():\n",
        "  month = \"january\"\n",
        "  month_short = month[0:3]   #why 0 to 3 when 3 is the 4th one?\n",
        "  month_short = month_short.capitalize()\n",
        "  month_rest = month[3:]\n",
        "  month = month_short + month_rest\n",
        "  #print(month_short, month_rest)\n",
        "  print(month)\n",
        "\n",
        "lowerCase_threeLetters_one()\n",
        "\n",
        "#I found these instructions confusing, because capitalise means making the first letter upper case,\n",
        "#and what it wanted was for for all the letters of the first part to be upper case.\n",
        "\n",
        "def lowerCase_threeLetters():\n",
        "  month = \"january\"\n",
        "  month_short = month[0:3]   #why 0 to 3 when 3 is the 4th one?\n",
        "  month_short = month_short.upper()\n",
        "  month_rest = month[3:]\n",
        "  month = month_short + month_rest\n",
        "  print(month)\n",
        "\n",
        "lowerCase_threeLetters()"
      ],
      "execution_count": 39,
      "outputs": [
        {
          "output_type": "stream",
          "name": "stdout",
          "text": [
            "January\n",
            "JANuary\n"
          ]
        }
      ]
    }
  ]
}