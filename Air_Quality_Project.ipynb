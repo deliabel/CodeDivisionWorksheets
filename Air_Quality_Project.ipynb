{
  "nbformat": 4,
  "nbformat_minor": 0,
  "metadata": {
    "colab": {
      "provenance": [],
      "include_colab_link": true
    },
    "kernelspec": {
      "name": "python3",
      "display_name": "Python 3"
    },
    "language_info": {
      "name": "python"
    }
  },
  "cells": [
    {
      "cell_type": "markdown",
      "metadata": {
        "id": "view-in-github",
        "colab_type": "text"
      },
      "source": [
        "<a href=\"https://colab.research.google.com/github/deliabel/CodeDivisionWorksheets/blob/main/Air_Quality_Project.ipynb\" target=\"_parent\"><img src=\"https://colab.research.google.com/assets/colab-badge.svg\" alt=\"Open In Colab\"/></a>"
      ]
    },
    {
      "cell_type": "markdown",
      "source": [
        "\n",
        "### All boxes in italics are the instuctions from the worksheet. Other text boxes are my write-up and notes.\n"
      ],
      "metadata": {
        "id": "zWVY3OmW2vtl"
      }
    },
    {
      "cell_type": "markdown",
      "source": [
        "# *Clean and wrangle air quality data*\n",
        "\n",
        "*The following data file contains data collected at a roadside monitoring station.  You can see the data in a spreadsheet here: https://docs.google.com/spreadsheets/d/1XpAvrpuyMsKDO76EZ3kxuddBOu7cZX1Od4uEts14zco/edit?usp=sharing*\n",
        "\n",
        "*The data contains:*\n",
        "* *a heading line (Chatham Roadside) which needs to be skipped*   \n",
        "* *dates which are sometimes left- and sometimes right-justified indicating that they are not formatted as dates, rather they are text (so need to be converted to dates)*   \n",
        "* *times which are not all in the same format*   \n",
        "* *Nitrogen Dioxide levels which are, again, text and sometimes contain nodata*   \n",
        "* *Status which is always the same*   \n",
        "\n",
        "\n",
        "\n"
      ],
      "metadata": {
        "id": "8qnlsapq24Df"
      }
    },
    {
      "cell_type": "markdown",
      "source": [
        "\n",
        "### *Project - clean, sort and wrangle the data*\n",
        "\n",
        "* *Read the dataset into a dataframe, skipping the first row*   \n",
        "* *Convert dates to date format*   \n",
        "* *Remove rows with nodata in the Nitrogen dioxide column*   \n",
        "* *Convert the Nitrogen dioxide levels values to float type*   \n",
        "* *Sort by Nitrogen dioxide level*   \n",
        "* *Create a new column for 'Weekdays' (use df['Date'].dt.weekday)*   \n",
        "* *Rename the column Nitrogen dioxide level to NO2 Level (V µg/m2)*   \n",
        "* *Remove the Status column*   \n",
        "\n",
        "*The dataset can be viewed here:  https://drive.google.com/file/d/1aYmBf9il2dWA-EROvbYRCZ1rU2t7JwvJ/view?usp=sharing  and the data accessed here: https://drive.google.com/uc?id=1SOe9b4VJ1FCtDVgZ2T8d00-jTw2Kux1i  This is a .csv file*\n"
      ],
      "metadata": {
        "id": "SSvLiFnp4LjG"
      }
    },
    {
      "cell_type": "markdown",
      "source": [
        "## Cleaning the data\n",
        "\n",
        "Using the guidence provided as a starting point, the data was made more useable by:\n",
        "* Skipping the first row in the raw dataset as it was read in, to remove a title row.\n",
        "* Converting the 'Dates' column values from object type to a datetime type, so that datetime functions can be used.\n",
        "* Replacing the midnight values in the 'Time' column to match the format of the other values and to use the standard 00:00 instead of 24:00.\n",
        "** Code commented out, but left in place, incase a problem was found later: Removing the rows without a measurment (value is 'nodata') from the 'Nitrogen Dioxide' column.\n",
        "* Converting the 'nodata' values in the 'Nitrogen Dioxide' column to none, to allow the column data type to be changed with these rows in place.\n",
        "* Converting the 'Nitrogen Dioxide' column values from object type to a float type, in order to acces the numbers.\n",
        "* Renaming the 'Nitrogen Dioxide' column to 'NO2 levels (V µg/m3)' to better describe the measurements and to allow the 'Status' column to be removed.\n",
        "* Removing the unnecessary 'Status' column.\n",
        "* Adding a 'Weekday' column to label the rows by day of the week, to allow analysis and plots.\n",
        "* Adding 'Week' column to label the rows by week.\n",
        "\n"
      ],
      "metadata": {
        "id": "x_xR0HpPtsme"
      }
    },
    {
      "cell_type": "code",
      "source": [
        "import pandas as pd"
      ],
      "metadata": {
        "id": "JhhHf9IY4i0E"
      },
      "execution_count": null,
      "outputs": []
    },
    {
      "cell_type": "code",
      "source": [
        "# Reads the dataset into a dataframe, skipping the first row\n",
        "# Output gives an idea of the dataset\n",
        "url2020 = 'https://raw.githubusercontent.com/deliabel/CodeDivisionWorksheets/main/data%20sets/NO2-measured-data-2020-2021-Chatham-Roadside.csv'\n",
        "measured_20df = pd.read_csv(url2020, skiprows = 1)\n",
        "measured_20df"
      ],
      "metadata": {
        "id": "txM4TIRUHhsJ",
        "collapsed": true
      },
      "execution_count": null,
      "outputs": []
    },
    {
      "cell_type": "code",
      "source": [
        "# (checks if any columns have null data, and finds out which type of data is in each column)\n",
        "measured_20df.info()"
      ],
      "metadata": {
        "id": "Tzl7mxSL63JA"
      },
      "execution_count": null,
      "outputs": []
    },
    {
      "cell_type": "code",
      "source": [
        "# Converts values in 'Date' column to date format\n",
        "# Output shows the 'Date' datatype has changed to datetime64\n",
        "measured_20df['Date']= pd.to_datetime(measured_20df['Date'], dayfirst = True)\n",
        "measured_20df.info()"
      ],
      "metadata": {
        "id": "zb03LU5p3ev0"
      },
      "execution_count": null,
      "outputs": []
    },
    {
      "cell_type": "code",
      "source": [
        "# additional: Replaces midnight time, making the format match the rest\n",
        "# output shows the last midnight time is now 00:00\n",
        "measured_20df = measured_20df.replace('24:00:00', '00:00')\n",
        "measured_20df"
      ],
      "metadata": {
        "id": "jI0sRTXVwfan"
      },
      "execution_count": null,
      "outputs": []
    },
    {
      "cell_type": "code",
      "source": [
        "# Removes rows with nodata in the 'Nitrogen dioxide' column\n",
        "# Output shows that the indices have not changed, but there are now fewer rows\n",
        "#measured_20df = measured_20df.loc[measured_20df['Nitrogen dioxide'] != 'nodata']\n",
        "#measured_20df"
      ],
      "metadata": {
        "id": "BaMpaLGG3emD"
      },
      "execution_count": null,
      "outputs": []
    },
    {
      "cell_type": "code",
      "source": [
        "# (checks there are no nodata rows left)\n",
        "# (as a second check, if this is run first, there are 152 rows: 8784 - 152 = 8632, which is the new length of the df)\n",
        "#measured_20df_check = measured_20df[measured_20df['Nitrogen dioxide'] == 'nodata']\n",
        "#measured_20df_check"
      ],
      "metadata": {
        "id": "C7K7Rku8_tQS"
      },
      "execution_count": null,
      "outputs": []
    },
    {
      "cell_type": "code",
      "source": [
        "# additional: Replaces 'nodata' with None, might help with plots, will introduce nulls\n",
        "# Output shows there are now null values in the 'Nitrogen dioxide' column, and a section where 'nodata' has been replaced with None\n",
        "measured_20df = measured_20df.replace('nodata', None)\n",
        "print(measured_20df.info())\n",
        "measured_20df.iloc[50:60]"
      ],
      "metadata": {
        "id": "JV7A06dr3m5R"
      },
      "execution_count": null,
      "outputs": []
    },
    {
      "cell_type": "code",
      "source": [
        "# Converts the 'Nitrogen dioxide' values to float type\n",
        "# Output shows 'Nitrogen dioxide' datatype has changed to float64\n",
        "measured_20df = measured_20df.astype({'Nitrogen dioxide': float,})\n",
        "measured_20df.info()"
      ],
      "metadata": {
        "id": "dtGrrk7rVV97"
      },
      "execution_count": null,
      "outputs": []
    },
    {
      "cell_type": "code",
      "source": [
        "# Renames the column 'Nitrogen dioxide' to 'NO2 Level (V µg/m3)'\n",
        "measured_20df = measured_20df.rename({'Nitrogen dioxide': \"NO2 Level (V µg/m3)\"}, axis=\"columns\")\n",
        "measured_20df.head(3)"
      ],
      "metadata": {
        "id": "SXIakcNp3dsG"
      },
      "execution_count": null,
      "outputs": []
    },
    {
      "cell_type": "code",
      "source": [
        "# Removes the 'Status' column\n",
        "measured_20df = measured_20df.drop('Status', axis = 1)\n",
        "measured_20df"
      ],
      "metadata": {
        "id": "cfMxX70q3daw"
      },
      "execution_count": null,
      "outputs": []
    },
    {
      "cell_type": "code",
      "source": [
        "# Creates a new 'Weekday' column to label days of the week\n",
        "measured_20df.insert(1, 'Weekday', measured_20df['Date'].dt.weekday)\n",
        "measured_20df.head(3)"
      ],
      "metadata": {
        "id": "oFcw17mm3d-_"
      },
      "execution_count": null,
      "outputs": []
    },
    {
      "cell_type": "code",
      "source": [
        "# (checks that there are labels for 7 days, and that all the days are included: Monday is 0 and Sunday is 6)\n",
        "measured_20df['Weekday'].unique()"
      ],
      "metadata": {
        "id": "mIaXdiw-ivwS"
      },
      "execution_count": null,
      "outputs": []
    },
    {
      "cell_type": "code",
      "source": [
        "# additional: Creates a new 'Week' column to label weeks in the year\n",
        "# Output shows the new column is present and that there are labels for each week in the year\n",
        "measured_20df.insert(2, 'Week', measured_20df['Date'].dt.isocalendar().week)\n",
        "print(measured_20df.head(3))\n",
        "measured_20df['Week'].unique()"
      ],
      "metadata": {
        "id": "PGDX9bue3gKu"
      },
      "execution_count": null,
      "outputs": []
    },
    {
      "cell_type": "markdown",
      "source": [
        "### *Expand the dataset*\n",
        "---\n",
        "\n",
        "*There is a second data set here covering the year 2021:  https://drive.google.com/uc?id=1aYmBf9il2dWA-EROvbYRCZ1rU2t7JwvJ*\n",
        "\n",
        "*Concatenate the two datasets to expand it to 2020 and 2021.*  \n",
        "\n",
        "*Before you can concatenate the datasets you will need to clean and wrangle the second dataset in the same way as the first.  Use the code cell below.  Give the second dataset a different name.*"
      ],
      "metadata": {
        "id": "jnzAnbsmHk4B"
      }
    },
    {
      "cell_type": "markdown",
      "source": [
        "### *Show summary statistics for larger dataset*\n",
        "---\n",
        "\n",
        "*After the datasets have been concatenated, group the data by Weekdays and show summary statistics by day of the week.*"
      ],
      "metadata": {
        "id": "EMByDKEE83BA"
      }
    },
    {
      "cell_type": "markdown",
      "source": [
        "## Cleaning the second dataset\n",
        "\n",
        "The second dataset was cleaned in the same way."
      ],
      "metadata": {
        "id": "CZI9gRHf8sfF"
      }
    },
    {
      "cell_type": "code",
      "source": [
        "# Reads the dataset into a dataframe, skipping the first row\n",
        "url2021 = 'https://raw.githubusercontent.com/deliabel/CodeDivisionWorksheets/main/data%20sets/NO2-measured-data-2021-2022-Chatham-Roadside.csv'\n",
        "measured_21df = pd.read_csv(url2021, skiprows = 1)\n",
        "measured_21df"
      ],
      "metadata": {
        "id": "F5mfLXY4VLMM"
      },
      "execution_count": null,
      "outputs": []
    },
    {
      "cell_type": "code",
      "source": [
        "# (checks if any columns have null data, and finds out which type of data is in each column)\n",
        "measured_21df.info()"
      ],
      "metadata": {
        "id": "fZdZAIexVLMR"
      },
      "execution_count": null,
      "outputs": []
    },
    {
      "cell_type": "code",
      "source": [
        "# Converts values in 'Date' column to date format\n",
        "measured_21df['Date']= pd.to_datetime(measured_21df['Date'], dayfirst = True)\n",
        "measured_21df.info()"
      ],
      "metadata": {
        "id": "IDdwtppSVLMU"
      },
      "execution_count": null,
      "outputs": []
    },
    {
      "cell_type": "code",
      "source": [
        "# additional: Replaces midnight time, making the format match the rest\n",
        "measured_21df = measured_21df.replace('24:00', '00:00')\n",
        "measured_21df.tail(26)"
      ],
      "metadata": {
        "id": "0rIjChnh24ZV"
      },
      "execution_count": null,
      "outputs": []
    },
    {
      "cell_type": "code",
      "source": [
        "# Removes rows with nodata in the 'Nitrogen dioxide' column\n",
        "# measured_21df = measured_21df.loc[measured_21df['Nitrogen dioxide'] != 'nodata']\n",
        "#measured_21df = measured_21df[measured_21df['Nitrogen dioxide'] != 'nodata']\n",
        "#measured_21df"
      ],
      "metadata": {
        "id": "wlHLPg_vVLMa"
      },
      "execution_count": null,
      "outputs": []
    },
    {
      "cell_type": "code",
      "source": [
        "# (checks there are no nodata rows left)\n",
        "#measured_21df_check = measured_21df[measured_21df['Nitrogen dioxide'] == 'nodata']\n",
        "#measured_21df_check"
      ],
      "metadata": {
        "id": "P8UYTc1IVLMc"
      },
      "execution_count": null,
      "outputs": []
    },
    {
      "cell_type": "code",
      "source": [
        "# additional: replaces 'nodata' with None, might help with plots, will introduce nulls\n",
        "measured_21df = measured_21df.replace('nodata', None)\n",
        "measured_21df.info()"
      ],
      "metadata": {
        "id": "85J1kli2yJ2L"
      },
      "execution_count": null,
      "outputs": []
    },
    {
      "cell_type": "code",
      "source": [
        "# Converts the 'Nitrogen dioxide' values to float type\n",
        "measured_21df = measured_21df.astype({'Nitrogen dioxide': float,})\n",
        "measured_21df.info()"
      ],
      "metadata": {
        "id": "qRXWDuiGVLMe"
      },
      "execution_count": null,
      "outputs": []
    },
    {
      "cell_type": "code",
      "source": [
        "# Renames the column 'Nitrogen dioxide' to 'NO2 Level (V µg/m3)'\n",
        "measured_21df = measured_21df.rename({'Nitrogen dioxide': \"NO2 Level (V µg/m3)\"}, axis=\"columns\")\n",
        "measured_21df.head(3)"
      ],
      "metadata": {
        "id": "9DHLI68FVLMl"
      },
      "execution_count": null,
      "outputs": []
    },
    {
      "cell_type": "code",
      "source": [
        "# Removes the 'Status' column\n",
        "measured_21df = measured_21df.drop('Status', axis = 1)\n",
        "measured_21df"
      ],
      "metadata": {
        "id": "6wZj4W_WVLMn"
      },
      "execution_count": null,
      "outputs": []
    },
    {
      "cell_type": "code",
      "source": [
        "# Creates a new 'Weekday' column to label days of the week\n",
        "measured_21df.insert(1, 'Weekday', measured_21df['Date'].dt.weekday)\n",
        "measured_21df.head(3)"
      ],
      "metadata": {
        "id": "pqOKlN7kVLMj"
      },
      "execution_count": null,
      "outputs": []
    },
    {
      "cell_type": "code",
      "source": [
        "# (checks that there are labels for 7 days, and that all the days are included: monday is 0 and sunday is 6)\n",
        "measured_21df['Weekday'].unique()"
      ],
      "metadata": {
        "id": "kewh12m_f76v"
      },
      "execution_count": null,
      "outputs": []
    },
    {
      "cell_type": "code",
      "source": [
        "# additional: Creates a new 'Week' column to label weeks in the year\n",
        "measured_21df.insert(2, 'Week', measured_21df['Date'].dt.isocalendar().week)\n",
        "print(measured_21df.head(3))\n",
        "measured_21df['Week'].unique()"
      ],
      "metadata": {
        "id": "McY1FUhe7hKv"
      },
      "execution_count": null,
      "outputs": []
    },
    {
      "cell_type": "markdown",
      "source": [
        "#### ---end of cleaning---\n",
        "---\n"
      ],
      "metadata": {
        "id": "Wy2ic1lRWELS"
      }
    },
    {
      "cell_type": "markdown",
      "source": [
        "## Concatonating datasets"
      ],
      "metadata": {
        "id": "0pjibpy90qgO"
      }
    },
    {
      "cell_type": "code",
      "source": [
        "# Concatenates the two datasets to expand it to 2020 and 2021.\n",
        "# Output shows the new length of the dataframe\n",
        "measuredNO2_df = pd.concat([measured_20df, measured_21df], ignore_index = True)\n",
        "print('shape:', measuredNO2_df.shape)\n",
        "measuredNO2_df"
      ],
      "metadata": {
        "id": "Ax0i36K_3zRF"
      },
      "execution_count": null,
      "outputs": []
    },
    {
      "cell_type": "code",
      "source": [
        "# Displays a summary of statistics for the measured nitrogen dioxide levels\n",
        "measuredNO2_df[[\"NO2 Level (V µg/m3)\"]].describe()"
      ],
      "metadata": {
        "id": "VeB00m7uiXVa"
      },
      "execution_count": null,
      "outputs": []
    },
    {
      "cell_type": "markdown",
      "source": [
        "## Looking at the Data\n",
        "To get an idea of any trends in the data or questions that could be investigated, ... different ways of viewing the data.\n",
        "\n",
        "Range of Measurements\n",
        "* Found the maximum and minimum measurements of the nitrogen dioxide level for each year.\n",
        "* Allows the range of the measured concentrations to be seen.\n",
        "\n",
        "Regulations\n",
        "* Found the mean measurements of the nitrogen dioxide level for each year.\n",
        "* Together with the maximums and minimums, this allows the measurements to be checked against the regulation levels.\n",
        "* \"The Air Quality Standards Regulations 2010 require that the annual mean concentration of NO2 must not exceed 40 µg/m3 and that there should be no more than 18 exceedances of the hourly mean limit value (concentrations above 200 µg/m3) in a single year.\"\n",
        "* https://www.gov.uk/government/statistics/air-quality-statistics/ntrogen-dioxide\n",
        "\n",
        "Annual plots\n",
        "* For each year: Seperated the data by finding the mean measurment for each week, and then plotted both years on one graph.\n",
        "* Gives a rough idea of any trends over a year, and allows years to be compared.\n",
        "* Note: The week numbers mean that the dates in this plot will not exactly be aligned. This should be a small factor considering that weekday may have more effect than date, and the season will still match.\n",
        "\n",
        "Weekly plots\n",
        "* Grouped the data for both years by day of the week, calculated maximums and means for each days, and made a bar chart.\n",
        "* This should allow any trends over a week to be seen."
      ],
      "metadata": {
        "id": "sHd3dVD5RfqH"
      }
    },
    {
      "cell_type": "markdown",
      "source": [
        "### Range of the measurements\n"
      ],
      "metadata": {
        "id": "8ggjukrEHIwd"
      }
    },
    {
      "cell_type": "code",
      "source": [
        "# shows minimum and maximum nitrogen dioxide levels for the year 2020\n",
        "# measured_20df[[\"NO2 Level (V µg/m3)\"]].describe()\n",
        "minNO2_20 = measured_20df['NO2 Level (V µg/m3)'].min()\n",
        "maxNO2_20 = measured_20df['NO2 Level (V µg/m3)'].max()\n",
        "print('2020 \\nminimum measurement:', minNO2_20, '\\nmaximum measurement:', maxNO2_20)"
      ],
      "metadata": {
        "id": "eyl7JJO4_VA-"
      },
      "execution_count": null,
      "outputs": []
    },
    {
      "cell_type": "code",
      "source": [
        "# shows minimum and maximum nitrogen dioxide levels for the year 2020\n",
        "# measured_21df[[\"NO2 Level (V µg/m3)\"]].describe()\n",
        "minNO2_21 = measured_21df['NO2 Level (V µg/m3)'].min()\n",
        "maxNO2_21 = measured_21df['NO2 Level (V µg/m3)'].max()\n",
        "print('2021 \\nminimum measurement:', minNO2_21, '\\nmaximum measurement:', maxNO2_21)"
      ],
      "metadata": {
        "id": "jj-KnNQ7_U53"
      },
      "execution_count": null,
      "outputs": []
    },
    {
      "cell_type": "code",
      "source": [
        "# Sorts 2021 dataframe by Nitrogen dioxide level\n",
        "# Output shows there are only 9 negative values.\n",
        "sorted_21df = measured_21df.sort_values('NO2 Level (V µg/m3)')\n",
        "sorted_21df.head(10)"
      ],
      "metadata": {
        "id": "FGEK8sv4_UxO"
      },
      "execution_count": null,
      "outputs": []
    },
    {
      "cell_type": "markdown",
      "source": [
        "\n",
        "####Negative Values\n",
        "The negative values are not meaningful measurements. This indicates that there is something wrong, maybe a callibration error or a problem with the sensors. It is unclear if this problem effects the rest of the data.\n",
        "\n",
        "There are only 9 negative values, so they should not have a large effect on the calculations. If a problem was noticed, they could be removed in a similar way to the part of the cleaning section where 'nodata' was replaces with None."
      ],
      "metadata": {
        "id": "YA7g8_HqIQaI"
      }
    },
    {
      "cell_type": "markdown",
      "source": [
        "###Regulations\n"
      ],
      "metadata": {
        "id": "XP3alJP1tr9Q"
      }
    },
    {
      "cell_type": "code",
      "source": [
        "# shows means of both years\n",
        "meanNO2_20 = measured_20df['NO2 Level (V µg/m3)'].mean()\n",
        "meanNO2_21 = measured_21df['NO2 Level (V µg/m3)'].mean()\n",
        "print('2020 \\nmean measurement:', meanNO2_20, '\\n2021 \\nmean measurement:', meanNO2_21)"
      ],
      "metadata": {
        "id": "OJ1g3VpdWrQO"
      },
      "execution_count": null,
      "outputs": []
    },
    {
      "cell_type": "markdown",
      "source": [
        "#### Within Regulations\n",
        "Both calculated annual mean measurements of 18.54 µg/m3 for 2020 and 18.64 µg/m3 for 2020 are lower than the maximum of 40 µg/m3 allowed.\n",
        "The maximums measurements from the range section, of 113.06 µg/m3 for 2020 and 82.56 µg/m3 for 2021, are both below the hourly mean limit of 200 µg/m3, so the hourly means will not exceed this limit.\n",
        "\n",
        "Neither year exceeded the regulations"
      ],
      "metadata": {
        "id": "ItC0FgA5ujZe"
      }
    },
    {
      "cell_type": "markdown",
      "source": [
        "### Annual Plots"
      ],
      "metadata": {
        "id": "v2Exg3CvHThR"
      }
    },
    {
      "cell_type": "code",
      "source": [
        "import matplotlib.pyplot as plt"
      ],
      "metadata": {
        "id": "iZ1szgQsCKy_"
      },
      "execution_count": null,
      "outputs": []
    },
    {
      "cell_type": "code",
      "source": [
        "# Finds mean nitrogen dioxide level for each week of 2020\n",
        "meanNO2_weeks20 = measured_20df.groupby('Week')['NO2 Level (V µg/m3)'].mean()"
      ],
      "metadata": {
        "id": "YURUCgALCDPI"
      },
      "execution_count": null,
      "outputs": []
    },
    {
      "cell_type": "code",
      "source": [
        "# Finds mean nitrogen dioxide level for each week of 2021\n",
        "meanNO2_weeks21 = measured_21df.groupby('Week')['NO2 Level (V µg/m3)'].mean()"
      ],
      "metadata": {
        "id": "ihg7OGN5DBtN"
      },
      "execution_count": null,
      "outputs": []
    },
    {
      "cell_type": "code",
      "source": [
        "# Plots data from both years, to get an idea of trends over the year\n",
        "x20_weeks = meanNO2_weeks20.keys()\n",
        "x21_weeks = meanNO2_weeks21.keys()\n",
        "\n",
        "fig, ax = plt.subplots()\n",
        "\n",
        "ax.plot(x20_weeks, meanNO2_weeks20, color='blue', label='2020')\n",
        "ax.plot(x21_weeks, meanNO2_weeks21, color = 'green', label='2021')\n",
        "\n",
        "plt.title('Mean weekly NO2 at Chatham Roadside in 2020 and 2021')\n",
        "plt.xlabel('Week')\n",
        "plt.ylabel('NO2 Level (V µg/m3)')\n",
        "ax.legend(loc='upper right')\n",
        "\n",
        "plt.show"
      ],
      "metadata": {
        "id": "vbXvx2gYF9MI"
      },
      "execution_count": null,
      "outputs": []
    },
    {
      "cell_type": "markdown",
      "source": [
        "####Seasonal Differences\n",
        "The plot shows a clear difference between measurements made during summer and winter. This could be due to weather or differences in traffic levels.\n",
        "\n",
        "The first part of the two years are quite different, but the last approximatly a third of each year have peaks in very similar places. There is a bigger difference at about weeks 15 - 25. This is approximately when the first UK covid lockown was, and could be looked at more closely."
      ],
      "metadata": {
        "id": "7gRxpoKtLqWs"
      }
    },
    {
      "cell_type": "markdown",
      "source": [
        "### Weekly Plots"
      ],
      "metadata": {
        "id": "emVXAVQlPHVj"
      }
    },
    {
      "cell_type": "code",
      "source": [
        "# groups the data by Weekday and shows summary statistics by day of the week\n",
        "measuredNO2_df.groupby('Weekday')['NO2 Level (V µg/m3)'].describe()"
      ],
      "metadata": {
        "id": "ui9qrb_ymGOl"
      },
      "execution_count": null,
      "outputs": []
    },
    {
      "cell_type": "code",
      "source": [
        "# Finds mean nitrogen dioxide level by day of the week\n",
        "meanNO2_days = measuredNO2_df.groupby('Weekday')['NO2 Level (V µg/m3)'].mean()\n",
        "meanNO2_days"
      ],
      "metadata": {
        "id": "EXxfnWjo3zKc"
      },
      "execution_count": null,
      "outputs": []
    },
    {
      "cell_type": "code",
      "source": [
        "# Finds maximum nitrogen dioxide level by day of the week\n",
        "maxNO2_days = measuredNO2_df.groupby('Weekday')['NO2 Level (V µg/m3)'].max()\n",
        "maxNO2_days"
      ],
      "metadata": {
        "id": "GF55lz61ToW0"
      },
      "execution_count": null,
      "outputs": []
    },
    {
      "cell_type": "code",
      "source": [
        "# additional: plots mean and max on a bar chart, to see if there might be a pattern over the week\n",
        "\n",
        "labels = ['Mon', 'Tues', 'Weds', 'Thurs', 'Fri', 'Sat', 'Sun']\n",
        "\n",
        "fig, ax = plt.subplots()\n",
        "\n",
        "ax.bar(labels, maxNO2_days, color='xkcd:greyish purple', label='max level of NO2')\n",
        "ax.bar(labels, meanNO2_days, color = 'xkcd:dark purple', label='mean level of NO2')\n",
        "\n",
        "plt.title('Levels of NO2 measured at Chatham Roadside in 2020 and 2021')\n",
        "plt.xlabel('Day of the Week')\n",
        "plt.ylabel('NO2 Level (V µg/m3)')\n",
        "ax.legend(loc='upper right')\n",
        "\n",
        "plt.show"
      ],
      "metadata": {
        "id": "RQHt7ctsTjmL"
      },
      "execution_count": null,
      "outputs": []
    },
    {
      "cell_type": "markdown",
      "source": [
        "#### Weekday Trends\n",
        "\n",
        "As might be expected Sunday has the lowest nitogen dioxide levels. Monday is notably higher, with levels roughly decreasing through the week."
      ],
      "metadata": {
        "id": "Zu-7105zPZYC"
      }
    },
    {
      "cell_type": "markdown",
      "source": [
        "## Other possible investigations\n",
        "#### Without additional information:\n",
        "*   trends over a day: school run, rush hour (would need to convert the times too)\n",
        "**   measurements are during covid on/off lockdowns, so work routines are interupted\n",
        "\n",
        "#### Would require additional data or to look up dates:\n",
        "*   excluding special weeks (such as holidays) to improve accuracy trends over a week\n",
        "*   effect school holidays, other holidays/events\n",
        "*   effect of lockdown dates\n",
        "*   if there was weather data/ station from the same position, could relate to sunny days vs rainy/bad weather or if wind speed was relevant\n",
        "\n",
        "*   check data quality of results"
      ],
      "metadata": {
        "id": "XbG552SnP1tC"
      }
    }
  ]
}