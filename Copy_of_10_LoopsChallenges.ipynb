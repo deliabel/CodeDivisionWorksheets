{
  "nbformat": 4,
  "nbformat_minor": 0,
  "metadata": {
    "colab": {
      "provenance": [],
      "include_colab_link": true
    },
    "kernelspec": {
      "name": "python3",
      "display_name": "Python 3"
    }
  },
  "cells": [
    {
      "cell_type": "markdown",
      "metadata": {
        "id": "view-in-github",
        "colab_type": "text"
      },
      "source": [
        "<a href=\"https://colab.research.google.com/github/deliabel/CodeDivisionWorksheets/blob/main/Copy_of_LoopsChallenges.ipynb\" target=\"_parent\"><img src=\"https://colab.research.google.com/assets/colab-badge.svg\" alt=\"Open In Colab\"/></a>"
      ]
    },
    {
      "cell_type": "markdown",
      "metadata": {
        "id": "lGjlNDuSFdXx"
      },
      "source": [
        "# Loop Challenges\n",
        "\n",
        "---\n",
        "\n",
        "Each of these challenges will need a loop.  This may be a **while** loop or a **for** loop, you will need to decide which is needed."
      ]
    },
    {
      "cell_type": "markdown",
      "metadata": {
        "id": "nSx5LRcdLzx-"
      },
      "source": [
        "---\n",
        "## Challenge 1 - Sum of random numbers\n",
        "Write a function called **random_generator()** where python generates random numbers between 1 and 100 until the number 1 is generated.\n",
        "\n",
        "* use `randint(1, 100)` to generate random numbers\n",
        "* keep a running `total` - add numbers as they are generated\n",
        "* print `total` at the end\n",
        "* print the final generated number (should be 1) to check your function is working\n",
        "\n",
        "Example input (computer):\n",
        "\n",
        "10  \n",
        "78  \n",
        "6  \n",
        "42  \n",
        "56  \n",
        "81  \n",
        "15   \n",
        "1  \n",
        "\n",
        "Expected output:  \n",
        "\n",
        "289  \n",
        "1  "
      ]
    },
    {
      "cell_type": "code",
      "metadata": {
        "id": "FRRBydPTN3cv",
        "colab": {
          "base_uri": "https://localhost:8080/"
        },
        "outputId": "eeade35c-188b-4a49-9ec8-a112c5c84ce0"
      },
      "source": [
        "from random import randint # this was not here to start with, I copied it from an exercise in the previous worksheet that used randint\n",
        "\n",
        "def random_generator():\n",
        "  total = 0\n",
        "  rand_n = randint(1,100)\n",
        "  while rand_n != 1:\n",
        "    total += rand_n\n",
        "    rand_n = randint(1,100)\n",
        "  print(total)\n",
        "  print(rand_n)\n",
        "\n",
        "random_generator()"
      ],
      "execution_count": 2,
      "outputs": [
        {
          "output_type": "stream",
          "name": "stdout",
          "text": [
            "2921\n",
            "1\n"
          ]
        }
      ]
    },
    {
      "cell_type": "markdown",
      "metadata": {
        "id": "aX8me4xxPMc0"
      },
      "source": [
        "---\n",
        "## Challenge 2 - Factorials\n",
        "\n",
        "Factorial of any number n is represented by n! and is equal to 1*2*3*....*(n-1)*n.\n",
        "\n",
        "E.g.   \n",
        "* 4! = 1 * 2 * 3 * 4 = 24  \n",
        "* 3! = 3 * 2 * 1 = 6\n",
        "* 2! = 2 * 1 = 2  \n",
        " Also,\n",
        "* 1! = 1\n",
        "* 0! = 1\n",
        "\n",
        "Write a function called **calculate_factorial()** which calculates the factorial of a user inputed number.\n",
        "\n",
        "* use a *while* loop to control repetition while the number being multiplied by is less than or equal to the number it is finding the factorial of, multiply each time round the loop  \n",
        "* print the answer at the end\n",
        "\n",
        "Test input:  \n",
        "\n",
        "6   \n",
        "10  \n",
        "1  \n",
        "0  \n",
        "\n",
        "Expected output:  \n",
        "\n",
        "720  \n",
        "3,628,800  \n",
        "1  \n",
        "1  \n",
        "\n",
        "### Extra challenge\n",
        "\n",
        "Can you write a function to calculate factorials but using a *for* loop instead?\n",
        "\n",
        "\n"
      ]
    },
    {
      "cell_type": "code",
      "metadata": {
        "id": "qcXqzf_lQDOv",
        "colab": {
          "base_uri": "https://localhost:8080/"
        },
        "outputId": "e7e1b48f-d7d7-4ec3-e1e5-46428b7f278c"
      },
      "source": [
        "def calc_factorial_for():\n",
        "    num = int(input(\"please enter an integer: \"))\n",
        "    fact_for = num\n",
        "    if num != 0:\n",
        "      for num in range(num, 1, -1):\n",
        "        fact_for = fact_for * (num-1)\n",
        "        num = num - 1\n",
        "        #print (num)\n",
        "      #print(fact_for)\n",
        "    else:\n",
        "      #print(1)\n",
        "      fact_for = 1\n",
        "    print(fact_for)\n",
        "\n",
        "def calc_factorial():\n",
        "    n = int(input(\"please enter an integer: \"))\n",
        "    factorial = n\n",
        "    if n!= 0:\n",
        "      while n > 1:\n",
        "        factorial = factorial * (n-1)\n",
        "        n = n - 1\n",
        "        #print(n)\n",
        "    else:\n",
        "      factorial = 1\n",
        "    print(factorial)\n",
        "\n",
        "\n",
        "calc_factorial()\n",
        "calc_factorial()\n",
        "calc_factorial()\n",
        "calc_factorial()"
      ],
      "execution_count": 22,
      "outputs": [
        {
          "output_type": "stream",
          "name": "stdout",
          "text": [
            "please enter an integer: 6\n",
            "720\n",
            "please enter an integer: 10\n",
            "3628800\n",
            "please enter an integer: 1\n",
            "1\n",
            "please enter an integer: 0\n",
            "1\n"
          ]
        }
      ]
    },
    {
      "cell_type": "code",
      "source": [
        "# I think I made this too. I'd like to know what I'm doing to make these..."
      ],
      "metadata": {
        "id": "GspfuDVUErzc"
      },
      "execution_count": 72,
      "outputs": []
    },
    {
      "cell_type": "markdown",
      "metadata": {
        "id": "q1q-bTvERBHm"
      },
      "source": [
        "---\n",
        "## Challenge 3 - rolling a dice\n",
        "\n",
        "Write a function called **roll_dice()** that will use the `randint()` function from random to create random dice rolls for two dice.\n",
        "\n",
        "*  'roll' the two dice 6 times and count how many doubles were rolled in those 6 rolls.\n",
        "*  use a *for* loop\n",
        "\n",
        "*Hint: to throw a dice use the following:*\n",
        "\n",
        "`dice1 = randint(1,6)`\n",
        "\n",
        "Example input (computer):  \n",
        "\n",
        "4 1   \n",
        "5 5   \n",
        "6 3   \n",
        "2 2   \n",
        "3 4  \n",
        "1 1\n",
        "\n",
        "Expected output:\n",
        "\n",
        "3   "
      ]
    },
    {
      "cell_type": "code",
      "metadata": {
        "id": "tppPCMWHR5Vv",
        "colab": {
          "base_uri": "https://localhost:8080/"
        },
        "outputId": "2e8beb83-ddfe-4504-c164-ac4504a9ef5d"
      },
      "source": [
        "from random import randint\n",
        "\n",
        "# Add your function below here\n",
        "def roll_dice():\n",
        "  count = 0\n",
        "  for i in range(6):\n",
        "    dice1 = randint(1,6)\n",
        "    dice2 = randint(1,6)\n",
        "    if dice1 == dice2:\n",
        "      count += 1\n",
        "    i += 1\n",
        "    print(dice1, dice2) # so I can see it is right\n",
        "  print(count)\n",
        "\n",
        "roll_dice()"
      ],
      "execution_count": 33,
      "outputs": [
        {
          "output_type": "stream",
          "name": "stdout",
          "text": [
            "5 2\n",
            "3 6\n",
            "4 6\n",
            "3 1\n",
            "1 1\n",
            "4 6\n",
            "1\n"
          ]
        }
      ]
    },
    {
      "cell_type": "markdown",
      "metadata": {
        "id": "Kn0hb-ORSETx"
      },
      "source": [
        "---\n",
        "## Challenge 4 - fizz buzz\n",
        "\n",
        "Write a function called **fizz_buzz()** using a *for* loop which:\n",
        "\n",
        "* iterates over the numbers 1 to 30   \n",
        "* if the **number** is a multiple of 3 - print \"fizz\" instead of the `number`  \n",
        "* if it is a multiple of 5 - print \"buzz\" instead of the `number`   \n",
        "* if it is a multiple of both 3 and 5 - print \"fizzbuzz\" instead of the `number`    \n",
        "\n",
        "Expected Output:   \n",
        "1  \n",
        "2  \n",
        "fizz  \n",
        "4  \n",
        "buzz  \n",
        "fizz  \n",
        "7  \n",
        "8  \n",
        "fizz  \n",
        "buzz  \n",
        "11  \n",
        "fizz  \n",
        "13  \n",
        "14  \n",
        "fizz  \n",
        "16  \n",
        "17  \n",
        "fizz  \n",
        "19  \n",
        "20  \n",
        "fizz  \n",
        "22  \n",
        "23  \n",
        "fizz  \n",
        "25  \n",
        "26  \n",
        "fizz  \n",
        "28  \n",
        "29  \n",
        "fizzbuzz  "
      ]
    },
    {
      "cell_type": "code",
      "metadata": {
        "id": "L3CBRgNdSZhy",
        "colab": {
          "base_uri": "https://localhost:8080/"
        },
        "outputId": "2ad15576-1e57-4295-cfa9-f94aef9ca4a2"
      },
      "source": [
        "def fizz_buzz():\n",
        "  for i in range(1, 31):\n",
        "    if i % 3 == 0 and i % 5 == 0:\n",
        "      print(\"fizzbuzz\")\n",
        "    elif i % 3 == 0:\n",
        "      print(\"fizz\")\n",
        "    elif i % 5 == 0:\n",
        "      print(\"buzz\")\n",
        "    else:\n",
        "      print(i)\n",
        "\n",
        "fizz_buzz()\n",
        "# in the expected output above, the fizz instead of 15 should be fizzbuzz\n",
        "# and 20 and 25 should be buzz"
      ],
      "execution_count": 34,
      "outputs": [
        {
          "output_type": "stream",
          "name": "stdout",
          "text": [
            "1\n",
            "2\n",
            "fizz\n",
            "4\n",
            "buzz\n",
            "fizz\n",
            "7\n",
            "8\n",
            "fizz\n",
            "buzz\n",
            "11\n",
            "fizz\n",
            "13\n",
            "14\n",
            "fizzbuzz\n",
            "16\n",
            "17\n",
            "fizz\n",
            "19\n",
            "buzz\n",
            "fizz\n",
            "22\n",
            "23\n",
            "fizz\n",
            "buzz\n",
            "26\n",
            "fizz\n",
            "28\n",
            "29\n",
            "fizzbuzz\n"
          ]
        }
      ]
    },
    {
      "cell_type": "markdown",
      "metadata": {
        "id": "xFo3wYgkTBLs"
      },
      "source": [
        "---\n",
        "## Challenge 5 - perfect numbers\n",
        "\n",
        "Write a function called **check_perfect()** which checks whether a given number is perfect or not.\n",
        "\n",
        "* *a perfect number is a positive integer that is equal to the sum of its positive factors (factors > 0) excluding the number itself.*\n",
        "* *it is also half the sum of all positive factors including itself*\n",
        "\n",
        "\n",
        "*For example:*  \n",
        "*6 is a perfect number. It's only factors are 1, 2 & 3.   \n",
        "1 + 2 + 3 = 6  \n",
        "(1 + 2 + 3 + 6)/2 =6*  \n",
        "\n",
        "**Your function will:**\n",
        "\n",
        "* ask the user to input a **number**\n",
        "* find all of the given numbers that are positive factors, adding them together as it goes through the loop\n",
        "* check whether `number` is perfect or not (both checks)  \n",
        "* print either `number` is perfect or `number` is not perfect\n",
        "\n",
        "Test input:  \n",
        "6   \n",
        "23   \n",
        "28\n",
        "\n",
        "Expected output:  \n",
        "6 is perfect   \n",
        "23 is not perfect  \n",
        "28 is perfect    \n",
        "\n",
        "\n",
        "\n"
      ]
    },
    {
      "cell_type": "code",
      "metadata": {
        "id": "RsYuicPCWHqo",
        "colab": {
          "base_uri": "https://localhost:8080/"
        },
        "outputId": "82f342cd-1e35-4b30-bcf5-8949dedabb94"
      },
      "source": [
        "def check_perfect():\n",
        "  number = int(input(\"please enter an integer: \")) # my typos are terrible, I keep writing 'munber'\n",
        "  total = 0\n",
        "  up_to = number // 2 + 1\n",
        "  for n in range(1, up_to):\n",
        "    if number % n == 0:\n",
        "      total += n\n",
        "      #print(\"factor:\", n) # ,\" total =\", total)\n",
        "  if total == number:\n",
        "    print(number, \"is perfect\")\n",
        "  else:\n",
        "    print(number, \"is not perfect\")\n",
        "\n",
        "check_perfect()\n",
        "check_perfect()\n",
        "check_perfect()\n",
        "print(\"\\n\")\n",
        "\n",
        "def find_perfect(): # my dad wanted to know\n",
        "  top = int(input(\"please enter top number: \"))\n",
        "  for i in range(1, top):\n",
        "    number = i\n",
        "    total = 0\n",
        "    up_to = number // 2 + 1\n",
        "    for n in range(1, up_to):\n",
        "      if number % n == 0:\n",
        "        total += n\n",
        "        #print(\"factor:\", n)\n",
        "    if total == number:\n",
        "      print(number)\n",
        "\n",
        "find_perfect()"
      ],
      "execution_count": 62,
      "outputs": [
        {
          "output_type": "stream",
          "name": "stdout",
          "text": [
            "please enter an integer: 6\n",
            "6 is perfect\n",
            "please enter an integer: 23\n",
            "23 is not perfect\n",
            "please enter an integer: 28\n",
            "28 is perfect\n",
            "\n",
            "\n",
            "please enter top number: 500\n",
            "6\n",
            "28\n",
            "496\n"
          ]
        }
      ]
    },
    {
      "cell_type": "markdown",
      "metadata": {
        "id": "i8sxKhcEH11h"
      },
      "source": [
        "## Challenge 6 - Passcode   \n",
        "\n",
        "Write a function called **guess_letter(passcode, missing_letter)** which will allow a user to play a game with the computer.  \n",
        "\n",
        "* the computer needs to 'generate' a random passcode with a missing letter (this is done for you)   \n",
        "* the user has up to three attempts to guess the missing letter in a passcode.  \n",
        "\n",
        "### the passcode generator  \n",
        "\n",
        "This code is given to you and will choose 4 letters in the range A-Z (capitals only) and randomly selecting one to be replaced by a *  \n",
        "\n",
        "**Your function should follow these rules:**\n",
        "\n",
        "*  ask the user to enter the missing **letter**  \n",
        "*  count the **attempt**  \n",
        "* if the letter is correct, print the message \"Correct passcode\" and then stop    \n",
        "* if the letter is incorrect, print the message, \"You have `attempts` attempts left\"  \n",
        "* if three wrong attempts have been made and the user hasn't entered the correct letter, print \"No more attempts\"  \n",
        "\n",
        "Example input (computer):  \n",
        "\n",
        "NR*R , B\n",
        "\n",
        "Example input (user):  \n",
        "A    \n",
        "B  \n",
        "C  \n",
        "\n",
        "Expected output:  \n",
        "No more attempts   \n",
        "\n",
        "Example input (computer):  \n",
        "A*RD , T  \n",
        "\n",
        "Example input (user):  \n",
        "T    \n",
        "\n",
        "Expected output:  \n",
        "Correct passcode  \n",
        "\n",
        "Example input (computer):  \n",
        "*FES , F  \n",
        "\n",
        "Example input (user):  \n",
        "T\n",
        "F    \n",
        "\n",
        "Expected output:  \n",
        "You have 2 attempts left\n",
        "Correct passcode"
      ]
    },
    {
      "cell_type": "code",
      "metadata": {
        "id": "NJp2CgvtKP2Q",
        "colab": {
          "base_uri": "https://localhost:8080/"
        },
        "outputId": "1f7165ef-52b8-4e30-b209-372e1ff92076"
      },
      "source": [
        "### importing package random\n",
        "from random import choice, randint\n",
        "\n",
        "def guess_passcode(passcode, missing_letter):\n",
        "  # add your code below here:\n",
        "  print(missing_letter) # for testing\n",
        "  print(passcode)\n",
        "  guess = input(\"please guess the missing letter: \")\n",
        "  guess = guess.upper()\n",
        "  attempts = 3\n",
        "  while attempts > 0:\n",
        "    if guess != missing_letter:\n",
        "      attempts -= 1\n",
        "      print(\"you have\", attempts, \"attempts left\")\n",
        "      guess = input(\"please guess the missing letter: \")\n",
        "      guess = guess.upper()\n",
        "    if guess == missing_letter:\n",
        "      attempts = 0\n",
        "      print(\"correct passcode\")\n",
        "    if attempts == 1:\n",
        "      attempts -= 1\n",
        "      print(\"no more attempts\") # and somehow this should be elifs and elses...\n",
        "\n",
        "\n",
        "# i think in the expected outputs \"correct passcode\" should be on a new line?\n",
        "# also I ran into a strange passcode: the missing letter was * and the passcode was TAVE (with no missing letter). Then again with CHCN.\n",
        "# I have checked I didn't change anything. I have taken screenshots.\n",
        "\n",
        "### code to generate a passcode with a missing letter, then run the function guess_passcode\n",
        "### DO NOT change anything below here\n",
        "passcode = \"\"\n",
        "letters = [chr(a) for a in range(ord('A'),ord('Z')+1)] # generate the letter between A and Z\n",
        "missing_position = randint(0,4)\n",
        "missing_letter = \"*\"\n",
        "for i in range(4):\n",
        "  letter = choice(letters)\n",
        "  if i == missing_position:\n",
        "    missing_letter = letter\n",
        "    passcode += \"*\"\n",
        "  else:\n",
        "    passcode += letter\n",
        "\n",
        "guess_passcode(passcode, missing_letter)\n",
        ""
      ],
      "execution_count": 89,
      "outputs": [
        {
          "output_type": "stream",
          "name": "stdout",
          "text": [
            "D\n",
            "*ZXE\n",
            "please guess the missing letter: g\n",
            "you have 2 attempts left\n",
            "please guess the missing letter: j\n",
            "you have 1 attempts left\n",
            "please guess the missing letter: d\n",
            "correct passcode\n"
          ]
        }
      ]
    }
  ]
}
