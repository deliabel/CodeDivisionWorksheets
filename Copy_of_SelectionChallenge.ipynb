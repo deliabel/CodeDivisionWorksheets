{
  "nbformat": 4,
  "nbformat_minor": 0,
  "metadata": {
    "colab": {
      "provenance": [],
      "include_colab_link": true
    },
    "kernelspec": {
      "name": "python3",
      "display_name": "Python 3"
    }
  },
  "cells": [
    {
      "cell_type": "markdown",
      "metadata": {
        "id": "view-in-github",
        "colab_type": "text"
      },
      "source": [
        "<a href=\"https://colab.research.google.com/github/deliabel/CodeDivisionWorksheets/blob/main/Copy_of_SelectionChallenge.ipynb\" target=\"_parent\"><img src=\"https://colab.research.google.com/assets/colab-badge.svg\" alt=\"Open In Colab\"/></a>"
      ]
    },
    {
      "cell_type": "markdown",
      "metadata": {
        "id": "-QxAKPD8DZfj"
      },
      "source": [
        "# Three selection challenges\n",
        "\n",
        "---\n"
      ]
    },
    {
      "cell_type": "markdown",
      "metadata": {
        "id": "2KYUALILDcM9"
      },
      "source": [
        "### Challenge 1 - password format  \n",
        "\n",
        "Write a function called **check_password_valid()** which will check the validity of a **password** input by a user.\n",
        "\n",
        "Rules for a valid password are:  \n",
        "\n",
        "*  At least 1 letter between [a-z] and 1 letter between [A-Z].\n",
        "*  At least 1 number between [0-9].\n",
        "*  At least 1 character from [$#@].\n",
        "*  Minimum length 6 characters.\n",
        "*  Maximum length 16 characters.  \n",
        "\n",
        "Let the user know if the `password` they have typed is valid and, if not, where was the first error.\n",
        "\n",
        "*Hint:  to test if a set of characters is present in a password String, you can use re.search('[character set]', `password`)*  \n",
        "\n",
        "Example:   \n",
        "*if re.search('[a-z]',`password`):*    \n",
        "if there is at least 1 character a-z in the password, re.search will not be None.\n",
        "\n",
        "**re** is a pre-written Python function for pattern searching in Strings.  It has been imported for you in the code cell below.  "
      ]
    },
    {
      "cell_type": "code",
      "source": [
        "ssword #not sure how I did this, I can see how I can delete the box, but I'd like to know what I did to make it"
      ],
      "metadata": {
        "id": "LfdSIjb9tG7K"
      },
      "execution_count": null,
      "outputs": []
    },
    {
      "cell_type": "code",
      "metadata": {
        "id": "8wBK9IA4BO2e",
        "colab": {
          "base_uri": "https://localhost:8080/"
        },
        "outputId": "480af6da-a658-41ba-95b6-9cc2cf406e75"
      },
      "source": [
        "import re\n",
        "\n",
        "# add your check_PasswordValid() function and call below here\n",
        "def check_password_valid_all_errors():\n",
        "  password = input(\"please enter a valid password: \")\n",
        "  valid = True\n",
        "  if re.search('[a-z]', password) == None:\n",
        "    print(\"your password needs at least one lower case letter\")\n",
        "    valid = False\n",
        "  if re.search('[A-Z]', password) == None:\n",
        "    print(\"your password needs at least one upper case letter\")\n",
        "    valid = False\n",
        "  if re.search('[0-9]', password) == None:\n",
        "    print(\"your password needs at least one number\")\n",
        "    valid = False\n",
        "  if re.search('[$#@]', password) == None:\n",
        "    print(\"your password needs at least one symbol ($#@)\")\n",
        "    valid = False\n",
        "  if len(password) < 6:\n",
        "    print(\"your password needs at least 6 characters\")\n",
        "    valid = False\n",
        "  if len(password) > 16:\n",
        "    print(\"your password should not have more than 16 characters\")\n",
        "    valid = False\n",
        "  if valid == True:\n",
        "    print(\"you have created a valid password!\")\n",
        "\n",
        "def check_password_valid_first_error():\n",
        "  password = input(\"please enter a valid password: \")\n",
        "  if re.search('[a-z]', password) == None:\n",
        "    print(\"your password needs at least one lower case letter\")\n",
        "  elif re.search('[A-Z]', password) == None:\n",
        "    print(\"your password needs at least one upper case letter\")\n",
        "  elif re.search('[0-9]', password) == None:\n",
        "    print(\"your password needs at least one number\")\n",
        "  elif re.search('[$#@]', password) == None:\n",
        "    print(\"your password needs at least one symbol ($#@)\")\n",
        "  elif len(password) < 6:\n",
        "    print(\"your password needs at least 6 characters\")\n",
        "  elif len(password) > 16:\n",
        "    print(\"your password should not have more than 16 characters\")\n",
        "  else:\n",
        "    print(\"you have created a valid password!\")\n",
        "\n",
        "check_password_valid_first_error()\n",
        "check_password_valid_first_error()\n",
        "print(\"...\")\n",
        "check_password_valid_all_errors()\n"
      ],
      "execution_count": 16,
      "outputs": [
        {
          "output_type": "stream",
          "name": "stdout",
          "text": [
            "please enter a valid password: passworD1\n",
            "your password needs at least one symbol ($#@)\n",
            "please enter a valid password: pass45$D\n",
            "you have created a valid password!\n",
            "...\n",
            "please enter a valid password: pass\n",
            "your password needs at least one upper case letter\n",
            "your password needs at least one number\n",
            "your password needs at least one symbol ($#@)\n",
            "your password needs at least 6 characters\n"
          ]
        }
      ]
    },
    {
      "cell_type": "markdown",
      "metadata": {
        "id": "f0R4GYTEFQS-"
      },
      "source": [
        "---\n",
        "### Challenge 2 - triangle shape  \n",
        "\n",
        "Write a function called **evaluate_triangle_shape()** which will check if a triangle is equilateral, isosceles or scalene, based on the three side lengths entered by a user (**x**, **y** and **z**.\n",
        "\n",
        "An equilateral triangle is a triangle in which all three sides are equal.\n",
        "A scalene triangle is a triangle that has three unequal sides.\n",
        "An isosceles triangle is a triangle with (at least) two equal sides.\n",
        "\n",
        "For example:  \n",
        "A triange with side lengths                                 \n",
        "x: 6                                                                    \n",
        "y: 8                                                                    \n",
        "z: 12                                                                   \n",
        "is a *Scalene triangle*\n",
        "\n",
        "A triangle with side lengths\n",
        "x:5  \n",
        "y:3   \n",
        "z:5  \n",
        "is an *Isosceles triangle*"
      ]
    },
    {
      "cell_type": "code",
      "metadata": {
        "id": "oBgl4ro1DVL0",
        "colab": {
          "base_uri": "https://localhost:8080/"
        },
        "outputId": "9496d8b6-1bca-442f-d6ef-a31b2d705c32"
      },
      "source": [
        "def evaluate_triangle_shape():\n",
        "  x = int(input(\"please enter a value for the length of side x: \"))\n",
        "  y = int(input(\"please enter a value for the length of side y: \"))\n",
        "  z = int(input(\"please enter a value for the length of side z: \"))\n",
        "  if x == y and x == z:\n",
        "    print(\"this is an equilateral triangle\")\n",
        "  elif x == y or x == z or y == z:\n",
        "    print(\"this is an isosceles triangle\")\n",
        "  #elif x != y and x != z and y != z:\n",
        "  else:\n",
        "    print(\"this is a scalene triangle\")\n",
        "\n",
        "evaluate_triangle_shape()"
      ],
      "execution_count": 9,
      "outputs": [
        {
          "output_type": "stream",
          "name": "stdout",
          "text": [
            "please enter a value for the length of side x: 6\n",
            "please enter a value for the length of side y: 8\n",
            "please enter a value for the length of side z: 12\n",
            "this is a scalene triangle\n"
          ]
        }
      ]
    },
    {
      "cell_type": "markdown",
      "metadata": {
        "id": "hr2EotkqG33l"
      },
      "source": [
        "---\n",
        "### Challenge 3 - which season\n",
        "\n",
        "Write a function called **determine_season()** which will ask the user to enter two integers representing a **month** and **day** and prints the season for that month and day.\n",
        "\n",
        "Note:  for this exercise the season dates are:\n",
        "*  Winter December 21 to March 20    \n",
        "*  Spring March 21 to June 20  \n",
        "*  Summer June 21 to September 20  \n",
        "*  Autumn September 21 to December 20\n",
        "\n",
        "Test input:  \n",
        "Input the month (e.g. January, February etc.): 7                     \n",
        "Input the day: 31                                                       \n",
        "\n",
        "Expected output:  \n",
        "Season is summer\n",
        "\n",
        "*Note: this will require multiple and or or operators and you should use brackets to help Python know which operations to do first*  \n",
        "\n",
        "*For an extra challenge you can check that the day is valid for the month*"
      ]
    },
    {
      "cell_type": "code",
      "metadata": {
        "id": "cvbfz8nzG4IL",
        "colab": {
          "base_uri": "https://localhost:8080/"
        },
        "outputId": "492eeda2-0edb-47b0-dbe1-9de1540f350b"
      },
      "source": [
        "def determine_season():\n",
        "  day = int(input(\"please enter a day number: \"))\n",
        "  month = int(input(\"please enter a month number: \"))\n",
        "  if month == 1 or month == 2 or (month == 12 and day >= 21) or (month == 3 and day <= 20):\n",
        "    print(\"season is winter\")\n",
        "  if month == 4 or month == 5 or (month == 3 and day >= 21) or (month == 6 and day <= 20):\n",
        "    print(\"season is spring\")\n",
        "  if month == 7 or month == 8 or (month == 6 and day >= 21) or (month == 9 and day <= 20):\n",
        "    print(\"season is summer\")\n",
        "  if month == 10 or month == 11 or (month == 9 and day >= 21) or (month == 12 and day <= 20):\n",
        "    print(\"season is autumn\")\n",
        "\n",
        "\"\"\"\n",
        "def check_day(day, month):\n",
        "  if day > 31:\n",
        "    print(\"no month has more than 31 days\")\n",
        "  elif (month == 4 or month == 6 or month == 9 or month == 11) and day > 30:\n",
        "    print(\"this month only has 30 days\")\n",
        "  elif month == 2 and day > 28:\n",
        "    print(\"this month only has 28 days\")\n",
        "  else:\n",
        "    print(\"yes\")\n",
        "\"\"\"\n",
        "\"\"\"\n",
        "def feb(day, month):\n",
        "  if month == 2 and day == 29:\n",
        "    print(\"this is a leap year\")\n",
        "    #but won't continue if 29 days\n",
        "  elif month == 2 and day > 28:\n",
        "    print(\"this month only has 28 days\")\n",
        "  else:\n",
        "    print(\"yes\")\n",
        "\"\"\"\n",
        "def determine_season_with_check():\n",
        "  day = int(input(\"please enter a day number: \"))\n",
        "  month = int(input(\"please enter a month number: \"))\n",
        "  if day > 31:\n",
        "    print(\"no month has more than 31 days\")\n",
        "  elif (month == 4 or month == 6 or month == 9 or month == 11) and day > 30:\n",
        "    print(\"this month only has 30 days\")\n",
        "  elif month == 2 and day > 29:\n",
        "    print(\"this month only has 29 days, at most\")\n",
        "  else:\n",
        "    if month == 1 or month == 2 or (month == 12 and day >= 21) or (month == 3 and day <= 20):\n",
        "      print(\"season is winter\")\n",
        "    if month == 4 or month == 5 or (month == 3 and day >= 21) or (month == 6 and day <= 20):\n",
        "      print(\"season is spring\")\n",
        "    if month == 7 or month == 8 or (month == 6 and day >= 21) or (month == 9 and day <= 20):\n",
        "      print(\"season is summer\")\n",
        "    if month == 10 or month == 11 or (month == 9 and day >= 21) or (month == 12 and day <= 20):\n",
        "      print(\"season is autumn\")\n",
        "\n",
        "determine_season()\n",
        "print(\"...\")\n",
        "determine_season_with_check()"
      ],
      "execution_count": 44,
      "outputs": [
        {
          "output_type": "stream",
          "name": "stdout",
          "text": [
            "please enter a day number: 31\n",
            "please enter a month number: 7\n",
            "season is summer\n",
            "...\n",
            "please enter a day number: 31\n",
            "please enter a month number: 6\n",
            "this month only has 30 days\n"
          ]
        }
      ]
    }
  ]
}