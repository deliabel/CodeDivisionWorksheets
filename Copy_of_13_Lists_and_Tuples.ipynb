{
  "nbformat": 4,
  "nbformat_minor": 0,
  "metadata": {
    "colab": {
      "provenance": [],
      "include_colab_link": true
    },
    "kernelspec": {
      "name": "python3",
      "display_name": "Python 3"
    },
    "language_info": {
      "name": "python"
    }
  },
  "cells": [
    {
      "cell_type": "markdown",
      "metadata": {
        "id": "view-in-github",
        "colab_type": "text"
      },
      "source": [
        "<a href=\"https://colab.research.google.com/github/deliabel/CodeDivisionWorksheets/blob/main/Copy_of_Lists_and_Tuples.ipynb\" target=\"_parent\"><img src=\"https://colab.research.google.com/assets/colab-badge.svg\" alt=\"Open In Colab\"/></a>"
      ]
    },
    {
      "cell_type": "markdown",
      "metadata": {
        "id": "Z-M-RCWATK71"
      },
      "source": [
        "# Lists and tuples\n",
        "\n",
        "Often we need to store a number of single items of data together so that they can be processed together. This might be because all the data refers to one person (e.g. name, age, gender, etc) OR it might be because we have a set of data (e.g. all the items that should be displayed in a drop down list, such as all the years from this year back to 100 years ago so that someone can select their year of birth)\n",
        "\n",
        "Python has a range of data structures available including:\n",
        "*   lists  \n",
        "*   tuples  \n",
        "*   dictionaries  \n",
        "*   sets\n",
        "\n",
        "This worksheet looks at lists and tuples.\n",
        "\n",
        "## List\n",
        "A list is a set of related, individual data objects, that are indexed and can be processed as a whole, as subsets or as individual items.  Lists are stored, essentially, as contiguous items in memory so that access can be as quick as possible.  However, they are mutable (they can be changed after they are created and stored) and so those mechanisms need to include extra functionality to deal with changing list sizes.\n",
        "\n",
        "## Tuple\n",
        "Essentially the same as a list but it is immutable.  Once it has been created it can't be changed.  It is stored in memory as contiguous items, with the size required being fixed right from the start.  This makes it faster to access.\n",
        "\n",
        "The code below will create two lists and a tuple.\n",
        "*   the first list contains 1000 random numbers between 1 and 100\n",
        "*   the second list is of random length (up to 5000) and each item is one of the 9 characteristics that are protected under the Equality Act in the UK.\n",
        "*   the tuple contains the 9 protected characteristics\n",
        "\n",
        "Before you start the exercises, run the code below.  It will generate the lists and tuple so that you can use them in the exercises.  If you need to recreate the lists again (because you have changed them and need to work on the originals, just run this cell again).\n",
        "\n",
        "***Note:***  *a list variable contains a reference to the start of the list in memory, rather than storing the list itself.  This means that if you assign the list to another variable (to make a copy), it will only copy across the reference.  If you change the copy, you change the original list.*\n",
        "\n",
        "*If you need to make a copy of the list you will need to use a loop to create a new list and copy all items across.*"
      ]
    },
    {
      "cell_type": "code",
      "metadata": {
        "id": "BDRckXeQXFMT"
      },
      "source": [
        "from random import randint, choice\n",
        "\n",
        "def get_num_list():\n",
        "  num_list = [randint(1,100) for n in range(1000)]\n",
        "  return num_list\n",
        "\n",
        "def get_protected_characteristics():\n",
        "  characteristics_tuple = ('age','disability','gender reassignment','marriage and civil partnership','pregnancy and maternity','race','religion or belief','sex','sexual orientation')\n",
        "  return characteristics_tuple\n",
        "\n",
        "def get_protected_characteristic_list(protected_characteristics):\n",
        "  char_list = [choice(protected_characteristics) for ch in range(randint(1,5000))]\n",
        "  return char_list\n",
        "\n",
        "nums = get_num_list()\n",
        "protected_characteristics = get_protected_characteristics()\n",
        "characteristics = get_protected_characteristic_list(protected_characteristics)"
      ],
      "execution_count": null,
      "outputs": []
    },
    {
      "cell_type": "markdown",
      "metadata": {
        "id": "xXT38-4ZV45n"
      },
      "source": [
        "## The exercises below will use the lists:  \n",
        "*   **nums** (a list of between 1 and 1000 random numbers, each number is between 0 and 1000)\n",
        "*   **characteristics** (a list of 5000 random protected_characteristics)\n",
        "\n",
        "and the tuple:\n",
        "*  **protected_characteristics** (a set of the 9 protected characteristics identified in the Equality Act)\n",
        "\n",
        "## You can run the cell above any number of times to generate new lists."
      ]
    },
    {
      "cell_type": "markdown",
      "metadata": {
        "id": "Ft0dXl7fUuaK"
      },
      "source": [
        "---\n",
        "### Exercise 1 - list head, tail and shape\n",
        "\n",
        "Write a function, **describe_list()** which will:\n",
        "*  print the length of the list `nums`\n",
        "*  print the first 10 items in `nums`  \n",
        "*  print the last 5 items in `nums`"
      ]
    },
    {
      "cell_type": "code",
      "metadata": {
        "id": "jUcZD7mmTJdA",
        "colab": {
          "base_uri": "https://localhost:8080/"
        },
        "outputId": "0aba9ef1-d486-4526-a6a9-a359e3e2721e"
      },
      "source": [
        "def describe_list():\n",
        "  print(len(nums))\n",
        "  print(nums[:5])\n",
        "  print(nums[-5:])\n",
        "\n",
        "describe_list()"
      ],
      "execution_count": null,
      "outputs": [
        {
          "output_type": "stream",
          "name": "stdout",
          "text": [
            "1000\n",
            "[32, 53, 98, 31, 83]\n",
            "[77, 32, 74, 17, 37]\n"
          ]
        }
      ]
    },
    {
      "cell_type": "markdown",
      "metadata": {
        "id": "yNWg08k6bXv0"
      },
      "source": [
        "---\n",
        "### Exercise 2 - show tuple items\n",
        "\n",
        "Write a function which will:\n",
        "*   use a loop to print the list of protected characteristics from the `protected_characteristics` tuple.\n"
      ]
    },
    {
      "cell_type": "code",
      "metadata": {
        "id": "P2HnCG9pb1BS",
        "colab": {
          "base_uri": "https://localhost:8080/"
        },
        "outputId": "bd71bb69-79f7-447a-dd60-5483b57780c2"
      },
      "source": [
        "def print_charas():\n",
        "  size = len(protected_characteristics)\n",
        "  #print(size)\n",
        "  for i in range(0, size): #do you not need the range?\n",
        "    print(protected_characteristics[i])\n",
        "\n",
        "print_charas()\n",
        "print(\"....\")\n",
        "\n",
        "def print_charas_2():\n",
        "  #size = len(protected_characteristics)\n",
        "  #print(size)\n",
        "  for i in protected_characteristics: #seems not. advantages/disadvantages?: range allows you to choose to start in the middle, etc. this just does the whole list.\n",
        "    print(i)\n",
        "\n",
        "print_charas_2()"
      ],
      "execution_count": null,
      "outputs": [
        {
          "output_type": "stream",
          "name": "stdout",
          "text": [
            "age\n",
            "disability\n",
            "gender reassignment\n",
            "marriage and civil partnership\n",
            "pregnancy and maternity\n",
            "race\n",
            "religion or belief\n",
            "sex\n",
            "sexual orientation\n",
            "....\n",
            "age\n",
            "disability\n",
            "gender reassignment\n",
            "marriage and civil partnership\n",
            "pregnancy and maternity\n",
            "race\n",
            "religion or belief\n",
            "sex\n",
            "sexual orientation\n"
          ]
        }
      ]
    },
    {
      "cell_type": "markdown",
      "metadata": {
        "id": "RTSuQZs4b1JU"
      },
      "source": [
        "---\n",
        "### Exercise 3 - list a random subset\n",
        "\n",
        "Write a function which will:\n",
        "*  calculate the position of the middle item in the `characteristics` list   \n",
        "(*Hint: use len() to help with this*)\n",
        "*  calculate the position of the item that is 5 places before the middle item\n",
        "*  calculate the position of the item that is 5 places after the middle item\n",
        "*  print the part of the list that includes the items from 5 places before to 5 places after.  \n",
        "\n",
        "Expected output:  \n",
        "Your list will include 11 items."
      ]
    },
    {
      "cell_type": "code",
      "metadata": {
        "id": "OwhFnH2kdC11",
        "colab": {
          "base_uri": "https://localhost:8080/"
        },
        "outputId": "fdc25253-c3ec-4419-ca5f-2395e0b4893e"
      },
      "source": [
        "def chara_subset():\n",
        "  size = len(characteristics)\n",
        "  middle = size // 2\n",
        "  five_before = middle - 5\n",
        "  five_after = middle + 5\n",
        "  #print(size, middle, five_before, five_after)\n",
        "  for i in range(five_before, five_after + 1): # can a slice be used instead?\n",
        "    print(characteristics[i])\n",
        "\n",
        "chara_subset()\n",
        "print(\"....\")\n",
        "\n",
        "def chara_subset_2():\n",
        "  size = len(characteristics)\n",
        "  middle = size // 2\n",
        "  five_before = middle - 5\n",
        "  five_after = middle + 5\n",
        "  #print(size, middle, five_before, five_after)\n",
        "  for i in characteristics[five_before:five_after + 1]: # yep.\n",
        "    print(i)\n",
        "\n",
        "chara_subset_2()"
      ],
      "execution_count": null,
      "outputs": [
        {
          "output_type": "stream",
          "name": "stdout",
          "text": [
            "marriage and civil partnership\n",
            "sexual orientation\n",
            "marriage and civil partnership\n",
            "gender reassignment\n",
            "sex\n",
            "religion or belief\n",
            "gender reassignment\n",
            "religion or belief\n",
            "age\n",
            "religion or belief\n",
            "gender reassignment\n",
            "....\n",
            "marriage and civil partnership\n",
            "sexual orientation\n",
            "marriage and civil partnership\n",
            "gender reassignment\n",
            "sex\n",
            "religion or belief\n",
            "gender reassignment\n",
            "religion or belief\n",
            "age\n",
            "religion or belief\n",
            "gender reassignment\n"
          ]
        }
      ]
    },
    {
      "cell_type": "markdown",
      "metadata": {
        "id": "KS0x3oFNePI9"
      },
      "source": [
        "---\n",
        "### Exercise 4 - create a copy\n",
        "\n",
        "Write a function which will: use a for loop to create a copy of the `nums` list:\n",
        "\n",
        "*   create a new, empty, list called **new_nums**  (*Hint: an empty list is [ ]*)\n",
        "*   use a for loop which uses the following syntax:  `for num in nums:`\n",
        "*   each time round the loop append `num` to `new_nums`  ( *`new_nums.append(num)`*)\n",
        "*   print the first 10 items of `new_nums`\n",
        "*   print the first 10 items of `nums`\n",
        "*   print the length of both lists"
      ]
    },
    {
      "cell_type": "code",
      "metadata": {
        "id": "mpK1Ip3we-uC",
        "colab": {
          "base_uri": "https://localhost:8080/"
        },
        "outputId": "3a18f65b-80cd-492b-e85b-40f1866031ef"
      },
      "source": [
        "def make_nums_copy():\n",
        "  copy_nums = []\n",
        "  for num in nums:\n",
        "    copy_nums.append(num)\n",
        "  print(\"    copy:\", copy_nums[:10], \"length =\", len(copy_nums))\n",
        "  print(\"original:\", nums[:10], \"length =\", len(nums))\n",
        "\n",
        "make_nums_copy()"
      ],
      "execution_count": null,
      "outputs": [
        {
          "output_type": "stream",
          "name": "stdout",
          "text": [
            "    copy: [17, 3, 100, 21, 80, 51, 58, 4, 3, 100] length = 1000\n",
            "original: [17, 3, 100, 21, 80, 51, 58, 4, 3, 100] length = 1000\n"
          ]
        }
      ]
    },
    {
      "cell_type": "markdown",
      "metadata": {
        "id": "deUIFWjRe-3G"
      },
      "source": [
        "\n",
        "\n",
        "```\n",
        "# This is formatted as code\n",
        "```\n",
        "\n",
        "---\n",
        "### Exercise 5 - count the occurrence of age in characteristics\n",
        "\n",
        "Write a function which will use the list method:\n",
        "\n",
        "`num_items = list_name.count(item)`\n",
        "\n",
        "to count the number of occurrences of 'age' in the `characteristics` list.  Print the result."
      ]
    },
    {
      "cell_type": "code",
      "metadata": {
        "id": "b9TrHQ9hfoIU",
        "colab": {
          "base_uri": "https://localhost:8080/"
        },
        "outputId": "955f0a38-ede0-4227-b1e6-8562d5b841aa"
      },
      "source": [
        "def count_ages():\n",
        "  num_ages = characteristics.count(\"age\")\n",
        "  return num_ages\n",
        "\n",
        "print(count_ages())"
      ],
      "execution_count": null,
      "outputs": [
        {
          "output_type": "stream",
          "name": "stdout",
          "text": [
            "69\n"
          ]
        }
      ]
    },
    {
      "cell_type": "markdown",
      "metadata": {
        "id": "zm2VI5RmfoSy"
      },
      "source": [
        "---\n",
        "### Exercise 6 - sort the nums list\n",
        "\n",
        "Write a function which will:\n",
        "*   call the function `get_num_list()` and store the result in a new list called **sort_nums**\n",
        "*   print the first, and last, 20 items in the `sort_nums` list\n",
        "*   use the `list_name.sort()` method to sort the `sort_nums` list into ascending order\n",
        "*   print the first, and last, 20 items again  \n",
        "*   use the `list_name.sort()` method again to sort the `sort_nums` list into descending order\n",
        "*   print the first, and last, 20 items again"
      ]
    },
    {
      "cell_type": "code",
      "metadata": {
        "id": "Fksgpj9JgWDs",
        "colab": {
          "base_uri": "https://localhost:8080/"
        },
        "outputId": "791c3ea4-e790-4130-f0fc-05429fa687b5"
      },
      "source": [
        "def sort_nums_list():\n",
        "  sort_nums = get_num_list()\n",
        "  print(sort_nums[:20], \"...\", sort_nums[-20:])\n",
        "  sort_nums.sort()\n",
        "  print(sort_nums[:20], \"...\", sort_nums[-20:])\n",
        "  sort_nums.sort()\n",
        "  print(sort_nums[:20], \"...\", sort_nums[-20:])\n",
        "\n",
        "sort_nums_list()"
      ],
      "execution_count": null,
      "outputs": [
        {
          "output_type": "stream",
          "name": "stdout",
          "text": [
            "[59, 2, 3, 85, 59, 8, 43, 22, 13, 62, 25, 86, 49, 98, 62, 50, 35, 82, 28, 42] ... [72, 73, 16, 67, 62, 80, 84, 60, 17, 81, 69, 74, 90, 70, 50, 82, 9, 68, 94, 85]\n",
            "[1, 1, 1, 1, 2, 2, 2, 2, 2, 2, 2, 2, 2, 2, 2, 2, 3, 3, 3, 3] ... [99, 99, 99, 99, 99, 99, 99, 99, 99, 99, 100, 100, 100, 100, 100, 100, 100, 100, 100, 100]\n",
            "[1, 1, 1, 1, 2, 2, 2, 2, 2, 2, 2, 2, 2, 2, 2, 2, 3, 3, 3, 3] ... [99, 99, 99, 99, 99, 99, 99, 99, 99, 99, 100, 100, 100, 100, 100, 100, 100, 100, 100, 100]\n"
          ]
        }
      ]
    },
    {
      "cell_type": "markdown",
      "metadata": {
        "id": "_OF-Xuj1UrW0"
      },
      "source": [
        "---\n",
        "### Exercise 7 - get statistics (max(), min(), sum() )\n",
        "\n",
        "Write a function which will:\n",
        "*   print the maximum and minimum numbers in the `nums` list  \n",
        "*   print the sum of the `nums` list\n",
        "*   calculate and print the average of the `nums` list (using `len()` to help)"
      ]
    },
    {
      "cell_type": "code",
      "metadata": {
        "id": "9YmYMenZVGod",
        "colab": {
          "base_uri": "https://localhost:8080/"
        },
        "outputId": "cb1121a2-3d2a-4540-fccd-9d48d62129a1"
      },
      "source": [
        "def get_stats():\n",
        "  max_nums = max(nums)\n",
        "  min_nums = min(nums)\n",
        "  print(\"highest:\", max_nums, \"\\n lowest:\", min_nums)\n",
        "  sum_nums = sum(nums)\n",
        "  print(\"sum of list:\", sum_nums)\n",
        "  mean_nums = sum_nums / len(nums)\n",
        "  print(\"mean of list:\", mean_nums)\n",
        "\n",
        "get_stats()"
      ],
      "execution_count": null,
      "outputs": [
        {
          "output_type": "stream",
          "name": "stdout",
          "text": [
            "highest: 100 \n",
            " lowest: 1\n",
            "sum of list: 50231\n",
            "mean of list: 50.231\n"
          ]
        }
      ]
    },
    {
      "cell_type": "markdown",
      "metadata": {
        "id": "Mn4tHQ_KVbHa"
      },
      "source": [
        "---\n",
        "### Exercise 8 - percentage difference\n",
        "\n",
        "Write a function which will:\n",
        "*   generate a new list called **ex8_nums** using `get_num_list()`\n",
        "*   calculate and print the percentage difference between the first number in each list (as a percentage of the number in the nums list) (Hint:  find the difference between the two numbers, divide the difference by the number in `nums` and multiply by 100)\n",
        "*   calculate and print the percentage difference between the last numbers in each list in the same way\n",
        "*   calculate and print the percentage difference between the middle numbers in each list in the same way.\n",
        "*   calculate and print the percentage difference between the sums of each list in the same way"
      ]
    },
    {
      "cell_type": "code",
      "metadata": {
        "id": "nJCQjZIeZL0e",
        "colab": {
          "base_uri": "https://localhost:8080/"
        },
        "outputId": "de02095f-d0dd-4701-c060-c7f4d19a8011"
      },
      "source": [
        "def percentage_diff():\n",
        "  ex8_nums = get_num_list()\n",
        "  first_diff = (abs(nums[0] - ex8_nums[0]) / nums[0]) * 100\n",
        "  first_diff = round(first_diff, 2)\n",
        "  print(\"the first of ex8 list is\", first_diff, \"% of the first of nums list\")\n",
        "\n",
        "  last_diff = (abs(nums[-1] - ex8_nums[-1]) / nums[-1]) * 100\n",
        "  last_diff = round(last_diff, 2)\n",
        "  print(\"the last of ex8 list is\", last_diff, \"% of the last of nums list\")\n",
        "\n",
        "  mid_nums = len(nums) // 2\n",
        "  mid_ex8_nums = len(ex8_nums) // 2\n",
        "  mid_diff = (abs(nums[mid_nums] - ex8_nums[mid_ex8_nums]) / nums[mid_nums]) * 100\n",
        "  mid_diff = round(mid_diff, 2)\n",
        "  print(\"the middle of ex8 list is\", mid_diff, \"% of the middle of nums list\")\n",
        "\n",
        "  sum_nums = sum(nums)\n",
        "  sum_ex8_nums = sum(ex8_nums)\n",
        "  sum_diff = (abs(sum_nums - sum_ex8_nums) / sum_nums) * 100\n",
        "  sum_diff = round(sum_diff, 2)\n",
        "  print(\"the sum of ex8 list is\", last_diff, \"% of the sum of nums list\")\n",
        "\n",
        "percentage_diff()\n",
        "# is this ok? not sure I followed the instructions"
      ],
      "execution_count": null,
      "outputs": [
        {
          "output_type": "stream",
          "name": "stdout",
          "text": [
            "the first of ex8 list is 258.82 % of the first of nums list\n",
            "the last of ex8 list is 14.75 % of the last of nums list\n",
            "the middle of ex8 list is 261.54 % of the middle of nums list\n",
            "the sum of ex8 list is 14.75 % of the sum of nums list\n"
          ]
        }
      ]
    },
    {
      "cell_type": "markdown",
      "metadata": {
        "id": "HNs3lZmYawFO"
      },
      "source": [
        "---\n",
        "### Exercise 9 - characteristic counts\n",
        "\n",
        "Write a function which will:\n",
        "*  iterate through the `protected_characteristics` tuple and for each **characteristic**:\n",
        "*   *   count the number of occurrences of that `characteristic` in the `characteristics` list\n",
        "*   *   print the `protected_characteristic` and the **count**  \n",
        "\n",
        "Example expected output:\n",
        "\n",
        "age 100  \n",
        "disability 120  \n",
        "gender reassignment 120  \n",
        "marriage and civil partnership 111  \n",
        "pregnancy and maternity 103  \n",
        "race 106  \n",
        "religion or belief 95  \n",
        "sex 110  \n",
        "sexual orientation 113  \n",
        "\n",
        "Extra learning:  you can read [here](https://thispointer.com/python-how-to-pad-strings-with-zero-space-or-some-other-character/) how to justify the printed characteristic so that the output is organised into two columns as shown below:  \n",
        "![tabulated output](https://drive.google.com/uc?id=1CCXfX6K5ZeDefnq7vUsqxCDmqvcfY8Mz)\n",
        "\n",
        "\n",
        "\n"
      ]
    },
    {
      "cell_type": "code",
      "metadata": {
        "id": "GURT11albqUs",
        "colab": {
          "base_uri": "https://localhost:8080/"
        },
        "outputId": "8f00a765-470c-4768-d247-8f4ff7ee1c04"
      },
      "source": [
        "def count_charas():\n",
        "  longest_label = max(protected_characteristics, key=len)\n",
        "  length_longest = len(longest_label)\n",
        "  heading = \"Protected Characteristic\"\n",
        "  print(heading.ljust(length_longest, ' '), \"Frequency \\n\")\n",
        "  for chara in protected_characteristics:\n",
        "    freq_chara = characteristics.count(chara)\n",
        "    chara = chara.ljust(length_longest, ' ')\n",
        "    print(chara, freq_chara)\n",
        "\n",
        "count_charas()"
      ],
      "execution_count": null,
      "outputs": [
        {
          "output_type": "stream",
          "name": "stdout",
          "text": [
            "Protected Characteristic       Frequency \n",
            "\n",
            "age                            276\n",
            "disability                     261\n",
            "gender reassignment            272\n",
            "marriage and civil partnership 295\n",
            "pregnancy and maternity        287\n",
            "race                           258\n",
            "religion or belief             253\n",
            "sex                            270\n",
            "sexual orientation             281\n"
          ]
        }
      ]
    },
    {
      "cell_type": "markdown",
      "metadata": {
        "id": "9Po7yQj-ds38"
      },
      "source": [
        "---\n",
        "### Exercise 10 - characteristics statistics\n",
        "\n",
        "Assuming that the `characteristics` list may have been taken from a study of cases that have been taken to court in relation to the Equality Act.  \n",
        "\n",
        "Write a function which will:\n",
        "\n",
        "*   find the most common characteristic resulting in court action, from this population\n",
        "*   print this in a message, e.g. The characteristic with the highest number of court cases is:  *characteristic*\n",
        "*   print the list of `protected_characteristics`, on one line if possible - see [here](https://www.geeksforgeeks.org/g-fact-25-print-single-multiple-variable-python/)\n",
        "*   ask the user to enter a characteristic that they would like to see statistics on and use a while loop to continue until the user has entered a valid characteristic\n",
        "*   print the characteristic, its frequency and the percentage that this frequency is of the whole population."
      ]
    },
    {
      "cell_type": "code",
      "metadata": {
        "id": "uk_I5z7UgbDs",
        "colab": {
          "base_uri": "https://localhost:8080/"
        },
        "outputId": "06b59318-76fb-44b2-9ea0-d35ee96adcb4"
      },
      "source": [
        "def chara_stats():\n",
        "  chara_count = []\n",
        "  for charas in protected_characteristics:\n",
        "    freq_chara = characteristics.count(charas)\n",
        "    add_on = [freq_chara]\n",
        "    chara_count = chara_count + add_on           # makes into a list of frequencies\n",
        "  common_chara = max(chara_count)                # finds highest in list\n",
        "  ref1 = chara_count.index(common_chara)         # finds index of highest value in list\n",
        "  common_chara_name = protected_characteristics[ref1]  # gets the characteristic with the same index from the tuple\n",
        "  print(\"The characteristic with the highest number of court cases is:\", common_chara_name)\n",
        "\n",
        "  size = len(protected_characteristics)\n",
        "  for i in range(0, size -1):\n",
        "    print(protected_characteristics[i], end = ', ')\n",
        "  print(protected_characteristics[-1])           # prints list of characteristics\n",
        "\n",
        "  chara = input(\"please enter a characteristic to see its statistics: \")\n",
        "  chara = chara.lower()\n",
        "  while protected_characteristics.count(chara) == 0:  # checks it against the tuple\n",
        "    chara = input(\"that is not a characteristic. please check the list and enter a valid characteristic: \")\n",
        "    chara = chara.lower()\n",
        "\n",
        "  ref2 = protected_characteristics.index(chara)  # finds index of requested characteristic in tuple\n",
        "  chara_freq = chara_count[ref2]                 # gets the number with the same index from the list of frequencies\n",
        "  chara_stat = (chara_freq / len(characteristics)) *100\n",
        "  chara_stat = round(chara_stat, 2)\n",
        "  print(\"The requested protected characteristic,\", chara + \", occurs\", chara_freq, \"times in the court record. This is\", chara_stat, \"% of the entries.\")\n",
        "\n",
        "chara_stats()"
      ],
      "execution_count": null,
      "outputs": [
        {
          "output_type": "stream",
          "name": "stdout",
          "text": [
            "The characteristic with the highest number of court cases is: marriage and civil partnership\n",
            "age, disability, gender reassignment, marriage and civil partnership, pregnancy and maternity, race, religion or belief, sex, sexual orientation\n",
            "please enter a characteristic to see its statistics: egg\n",
            "that is not a characteristic. please check the list and enter a valid characteristic: age\n",
            "The requested protected characteristic, age, occurs 276 times in the court record. This is 11.25 % of the entries.\n"
          ]
        }
      ]
    },
    {
      "cell_type": "markdown",
      "source": [
        "just notes below here"
      ],
      "metadata": {
        "id": "ImYQ3B-M1CU2"
      }
    },
    {
      "cell_type": "code",
      "source": [
        "#test space / notes from experimenting\n",
        "\n",
        "'''\n",
        "\n",
        "chara = input(\"enter chara: \")\n",
        "chara = chara.lower()\n",
        "while protected_characteristics.count(chara) == 0:\n",
        "  chara = input(\"not right, enter chara: \")\n",
        "  chara = chara.lower()\n",
        "print(chara, \"good\")\n",
        "\n",
        "'''\n",
        "\n",
        "print(\"Hello\", \"how are you?\", sep=\"---\") # sep doesn't apply in an iteration, since only one thing is in the brackets\n",
        "\n",
        "for charas2 in protected_characteristics: # prints things in tuple\n",
        "   print(charas2, end = '  ')\n",
        "print(\"next\")\n",
        "\n",
        "   # when running this, the next line printed hops up to the line with the displayed list for some reason.\n",
        "   # I think it is because the default end is \\n, so when you change that, it takes away the new line that would usually follow."
      ],
      "metadata": {
        "colab": {
          "base_uri": "https://localhost:8080/"
        },
        "id": "UdVuNAF3hOgN",
        "outputId": "bcb346f6-4750-48c7-a5ff-85e254cb18e4"
      },
      "execution_count": null,
      "outputs": [
        {
          "output_type": "stream",
          "name": "stdout",
          "text": [
            "Hello---how are you?\n",
            "age  disability  gender reassignment  marriage and civil partnership  pregnancy and maternity  race  religion or belief  sex  sexual orientation  next\n"
          ]
        }
      ]
    },
    {
      "cell_type": "code",
      "source": [
        "# this box has my plans for last exercise, with some notes from Karen's lesson about this worksheet.\n",
        "# In a code box because I had inteded to convert it into code as I went, but now it has notes mixed in.\n",
        "\n",
        "\n",
        "  # chara_count = copy previous exercise?\n",
        "  # highest_chara = find highest frequency in chara_count list\n",
        "  # print(\"The characteristic with the highest number of court cases is:\", chara)\n",
        "\n",
        "  # copy exercise 2?\n",
        "  # for i in protected_characteristics:\n",
        "  #   print[i]\n",
        "  # also, notes below about printing\n",
        "\n",
        "  # chara = input(\"please enter a characteristic to see its statistics: \")\n",
        "  # while chara != one from list (can i check it aganst the list?):\n",
        "  #  chara = input(\"that is not a characteristic. please check the list and enter a valid characcteristic: \")\n",
        "\n",
        "  # refer to chara_count again\n",
        "  # chara_freq = result from  chara_count list that matches chara\n",
        "  # assuming \"whole poplation\" means size of the charas list, chara_stat = (chara_freq / len(characteristics)) *100\n",
        "  # print(chara, chara_freq, chara_stat)\n",
        "\n",
        "\n",
        "#  notes:\n",
        "\n",
        "  # print(chara, \", \", end = \" \") <- puts all on one line. end tells it how to seperate the items\n",
        "  # if you just print(list) then you get the '' around the string too\n",
        "\n",
        "  #print(char + \", \", end = \".\") <- removes space by concatonating strings\n",
        "  # print(protected_charas[0], end='')\n",
        "  # for i in range(1, len(protected_chars)):\n",
        "  #   print(\", \"+protected_chras[i], end='')\n",
        "  # could put an if inside the loop, but this would be less efficient it would only be true the first time, but it would check all the times.\n",
        "  # print(characteristics.count(\"age\"))"
      ],
      "metadata": {
        "id": "UEsxQwngV6Y_"
      },
      "execution_count": null,
      "outputs": []
    },
    {
      "cell_type": "code",
      "source": [
        "  # compare first label to next label\n",
        "  # keep longer\n",
        "\n",
        "def find_longest():\n",
        "  label_length1 = 0\n",
        "  for i in protected_characteristics:\n",
        "    label_length2 = len(i)\n",
        "    if label_length2 < label_length1:\n",
        "      label_length1 = label_length1\n",
        "    if label_length2 >= label_length1:\n",
        "      label_length1 = label_length2\n",
        "    print(label_length2, label_length1)\n",
        "\n",
        "  print(label_length1)\n",
        "\n",
        "  # forgot about max(), but sort of knew there must be an inbuilt way. keeping for learning\n",
        "  # max() didn't work until I added key = len, copied from an insruction page found by searching. don't know what this does\n",
        "  # page: https://pythonexamples.org/python-find-longest-string-in-list/"
      ],
      "metadata": {
        "id": "yBUkesktQp9X"
      },
      "execution_count": null,
      "outputs": []
    }
  ]
}
